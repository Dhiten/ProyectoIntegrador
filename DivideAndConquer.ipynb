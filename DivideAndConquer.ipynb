{
  "nbformat": 4,
  "nbformat_minor": 0,
  "metadata": {
    "colab": {
      "name": "DivideAndConquer.ipynb",
      "provenance": [],
      "collapsed_sections": [
        "l2HwUvNbnRoH"
      ],
      "include_colab_link": true
    },
    "kernelspec": {
      "name": "python3",
      "display_name": "Python 3"
    },
    "language_info": {
      "name": "python"
    }
  },
  "cells": [
    {
      "cell_type": "markdown",
      "metadata": {
        "id": "view-in-github",
        "colab_type": "text"
      },
      "source": [
        "<a href=\"https://colab.research.google.com/github/Dhiten/ProyectoIntegrador/blob/main/DivideAndConquer.ipynb\" target=\"_parent\"><img src=\"https://colab.research.google.com/assets/colab-badge.svg\" alt=\"Open In Colab\"/></a>"
      ]
    },
    {
      "cell_type": "code",
      "execution_count": null,
      "metadata": {
        "colab": {
          "base_uri": "https://localhost:8080/"
        },
        "id": "ONb15bzG3izn",
        "outputId": "90c184da-df8f-438e-c836-ea833efcd393"
      },
      "outputs": [
        {
          "output_type": "stream",
          "name": "stdout",
          "text": [
            "Drive already mounted at /content/drive; to attempt to forcibly remount, call drive.mount(\"/content/drive\", force_remount=True).\n"
          ]
        }
      ],
      "source": [
        "from google.colab import drive\n",
        "import numpy as np\n",
        "import difflib\n",
        "import matplotlib.pyplot as plt\n",
        "import pandas as pd\n",
        "import seaborn as sns\n",
        "drive.mount('/content/drive')"
      ]
    },
    {
      "cell_type": "code",
      "source": [
        "df_fil = pd.read_csv(\"/content/drive/Shareddrives/Cálculo/DataSetDef.csv\",encoding='').dropna()\n",
        "df_fil.loc[:,'LUGAR'] = df_fil['LUGAR'].str.upper()\n",
        "len(df_fil['LUGAR'].unique())"
      ],
      "metadata": {
        "colab": {
          "base_uri": "https://localhost:8080/"
        },
        "id": "yEZB1g6E33Mb",
        "outputId": "1a4d9799-3cae-4b2c-acfc-816a60339560"
      },
      "execution_count": null,
      "outputs": [
        {
          "output_type": "execute_result",
          "data": {
            "text/plain": [
              "3382"
            ]
          },
          "metadata": {},
          "execution_count": 257
        }
      ]
    },
    {
      "cell_type": "markdown",
      "source": [
        "## Rename de las infracciones que vamos a usar"
      ],
      "metadata": {
        "id": "l2HwUvNbnRoH"
      }
    },
    {
      "cell_type": "code",
      "source": [
        "#Transitar por los siguientes sitios restringidos o en horas prohibidas por la autoridad competente. Ademas, el vehiculo sera inmovilizado\n",
        "df_fil.loc[df_fil['INFRACCION'] == 'Transitar por sitios restringidos o en horas prohibidas por la autoridad competente Además, el vehí','INFRACCION'] = 'Transitar por los siguientes sitios restringidos o en horas prohibidas por la autoridad competente. Ademas, el vehiculo sera inmovilizado'"
      ],
      "metadata": {
        "id": "JYTLace-_5XH"
      },
      "execution_count": null,
      "outputs": []
    },
    {
      "cell_type": "code",
      "source": [
        "#No realizar la revisión técnico-mecánica en el plazo legal establecido o cuando el vehículo no se encuentre en adecuadas condiciones técnico-mecánicas o de emisiones contaminantes, aun cuando porte los certificados correspondientes, además el vehículo será inmovilizado\n",
        "df_fil.loc[df_fil['INFRACCION'] == 'No realizar la revisión tecnicomecánica en el plazo legal establecido o cuando el vehículo no se enc','INFRACCION'] = 'No realizar la revisión técnico-mecánica en el plazo legal establecido o cuando el vehículo no se encuentre en adecuadas condiciones técnico-mecánicas o de emisiones contaminantes, aun cuando porte los certificados correspondientes, además el vehículo será inmovilizado'"
      ],
      "metadata": {
        "id": "4p-P0atQIPQY"
      },
      "execution_count": null,
      "outputs": []
    },
    {
      "cell_type": "markdown",
      "source": [
        "## Rename de los lugares"
      ],
      "metadata": {
        "id": "ptJKggIunZws"
      }
    },
    {
      "cell_type": "code",
      "source": [
        "spec_chars = [\"!\",'\"',\"#\",\"%\",\"&\",\"'\",\"(\",\")\",\n",
        "              \"*\",\"+\",\",\",\"-\",\".\",\"/\",\":\",\";\",\"<\",\n",
        "              \"=\",\">\",\"?\",\"@\",\"[\",\"\\\\\",\"]\",\"^\",\"_\",\n",
        "              \"`\",\"{\",\"|\",\"}\",\"~\",\"–\"]\n",
        "for i in spec_chars:\n",
        "  df_fil.loc[:,'LUGAR'] = df_fil['LUGAR'].str.replace(i,'')"
      ],
      "metadata": {
        "colab": {
          "base_uri": "https://localhost:8080/"
        },
        "id": "XZ4mhefvS-iA",
        "outputId": "b366764e-6d0a-4989-a009-d63d6c5c9ccb"
      },
      "execution_count": null,
      "outputs": [
        {
          "output_type": "stream",
          "name": "stderr",
          "text": [
            "/usr/local/lib/python3.7/dist-packages/ipykernel_launcher.py:6: FutureWarning: The default value of regex will change from True to False in a future version. In addition, single character regular expressions will *not* be treated as literal strings when regex=True.\n",
            "  \n"
          ]
        }
      ]
    },
    {
      "cell_type": "code",
      "source": [
        "df_fil.loc[:,'LUGAR'] = df_fil['LUGAR'].str.replace('PTE',' PRESIDENTE')\n",
        "df_fil.loc[:,'LUGAR'] = df_fil['LUGAR'].str.replace('PTO',' PUERTO')\n",
        "df_fil.loc[:,'LUGAR'] = df_fil['LUGAR'].str.replace('PIRULAQ',' PIRULAY')"
      ],
      "metadata": {
        "id": "EiPLpbrc1rDO"
      },
      "execution_count": null,
      "outputs": []
    },
    {
      "cell_type": "code",
      "source": [
        "TOREPLACE = ['OCAÑA','OCANA','OCABA','OCALA','OCA¿A']\n",
        "\n",
        "for i in range(len(TOREPLACE)):\n",
        "  df_fil.loc[:,'LUGAR'] = df_fil['LUGAR'].str.replace(TOREPLACE[i],' O_C_A_Ñ_A ')\n",
        "  \n",
        "TOREPLACE = []"
      ],
      "metadata": {
        "id": "yrS4mrNhbfZJ"
      },
      "execution_count": null,
      "outputs": []
    },
    {
      "cell_type": "code",
      "source": [
        "TOREPLACE = ['SDARDINATA','SRDINATA','SAEDINATA','SARIDNTAA', 'SARIDNAT ','SARDINAYTA','SARMIENTO','SARD ','SADINATAC','SARDINALES','SARDIANT','SARDINAT','SARDIANAT','SARDIBATA','SARDIATA','SARIDNATA','SARDINTA','SARIDINATA','SARINATA','SARSINATA','SARINATA','SARIDNARA','SARDINADA','SARDIN ATA','SARDINA TA','SARDINA ','SARCINAT','SARDNIATA','SARINDTA','SARDINARA','SARDIBTA','SARDNAT','SARDNATA','SARDINATAAA','SARDINATAA','SARDINATA']\n",
        "  \n",
        "for i in range(len(TOREPLACE)):\n",
        "  df_fil.loc[:,'LUGAR'] = df_fil['LUGAR'].str.replace(TOREPLACE[i],' S_A_R_D_I_N_A_T_A ')\n",
        "  \n",
        "TOREPLACE = []"
      ],
      "metadata": {
        "id": "KMk-tIpghYAY"
      },
      "execution_count": null,
      "outputs": []
    },
    {
      "cell_type": "code",
      "source": [
        "TOREPLACE = ['CYCUTA','CCUUCTA','CUCUCTA','CUCUTAA','CIUCUTA','CUYCUTA','CUCTUTA','CUCUTZ','CUCUTSA','CUCITA','CCUUTA','CUCUUTA','CUUCTA','UCUTA','CUCYTA','UCUCTA','CUCTA','CCUTA','CUCURA','CUICUTA','CUCIT','CUCUR','CUCUT','CUCUA','CUCU','CUCUTAA','CUCUTA','CUUTA']\n",
        "\n",
        "for i in range(len(TOREPLACE)):\n",
        "  df_fil.loc[:,'LUGAR'] = df_fil['LUGAR'].str.replace(TOREPLACE[i],' C_Ú_C_U_T_A_T_A ')\n",
        "  \n",
        "TOREPLACE = []"
      ],
      "metadata": {
        "id": "6VnxYcugrUjE"
      },
      "execution_count": null,
      "outputs": []
    },
    {
      "cell_type": "code",
      "source": [
        "TOREPLACE = ['BCARAMANGA','BUACARAMANGA','BUCARAMNGA','BUCARMANGA','BUCARAMAMGA','BUCARAMGN','BUCARAMGAN','BUCRAMANGA','RAMANGA','RAMANG','BUCARAMGA','BUCARAMAGA','BUCARQAMANGA','BUCARAMNAGA','BUCARMAANGA','BUCARAMANHA','BUCA', 'BMANGA','BMANG','BMAMGA','BMANHA','BMNGA','BMNAGA','BMANAGA','BMAGA','BMANPA','BMANA']\n",
        "\n",
        "for i in range(len(TOREPLACE)):\n",
        "  df_fil.loc[:,'LUGAR'] = df_fil['LUGAR'].str.replace(TOREPLACE[i],'B_U_C_A_R_A_M_A_N_G_A ')\n",
        "\n",
        "TOREPLACE = []"
      ],
      "metadata": {
        "id": "R6L-71iE0pgp"
      },
      "execution_count": null,
      "outputs": []
    },
    {
      "cell_type": "code",
      "source": [
        "TOREPLACE = ['PÁMPLONAC','PMPLONAC','PAMPLONA','PAMPLONITA','PAMLONA','PAMPLONAC','AMPLONAC','PAMPLON','PAMPÑONA','PAMPONA','PAMPLLONA','PAMPLOAN','PAMPPLONA','PAMPLOA','PAM PLONA','PAMPLOPNA','PAMPLOONA','PAMOLONA','PAMPLOMA','PAMPLNA','PAMPLANA','PAMP']\n",
        "  \n",
        "for i in range(len(TOREPLACE)):\n",
        "  df_fil.loc[:,'LUGAR'] = df_fil['LUGAR'].str.replace(TOREPLACE[i],' P_A_M_P_L_O_N_A ')\n",
        "  \n",
        "TOREPLACE = []"
      ],
      "metadata": {
        "id": "o_BKz08_0y74"
      },
      "execution_count": null,
      "outputs": []
    },
    {
      "cell_type": "code",
      "source": [
        "TOREPLACE = ['PRESISENTE','PRESIDENTES','PRESIDENT','PDTE','PRSIDENTE']\n",
        "\n",
        "for i in range(len(TOREPLACE)):\n",
        "  df_fil.loc[:,'LUGAR'] = df_fil['LUGAR'].str.replace(TOREPLACE[i],' P_R_E_S_I_D_E_N_T_E ')\n",
        "  \n",
        "TOREPLACE = []"
      ],
      "metadata": {
        "id": "pEI3hDc32qVn"
      },
      "execution_count": null,
      "outputs": []
    },
    {
      "cell_type": "code",
      "source": [
        "car = ['1','2','3','4','5','6','7','8','9','0']\n",
        "for i in car:\n",
        "  df_fil.loc[:,'LUGAR'] = df_fil['LUGAR'].str.replace(i,'')"
      ],
      "metadata": {
        "id": "RF9EcHKoJCsh"
      },
      "execution_count": null,
      "outputs": []
    },
    {
      "cell_type": "code",
      "source": [
        "replace = []\n",
        "for i in df_fil['LUGAR']:\n",
        "  palabras = i.split()\n",
        "  for j in range(len(palabras)):\n",
        "    if (len(palabras[j])<=5 and palabras[j] != 'OCAÑA'):\n",
        "      palabras[j] = ''\n",
        "  a = ' '.join(palabras)\n",
        "  replace.append(' '.join(a.split()))\n",
        "df_fil.loc[:,'LUGAR'] = replace"
      ],
      "metadata": {
        "id": "Hj25V57xMCpu"
      },
      "execution_count": null,
      "outputs": []
    },
    {
      "cell_type": "code",
      "source": [
        "replace = []\n",
        "for i in df_fil['LUGAR']:\n",
        "  a = ' '.join(i.split())\n",
        "  if len(a)<=5:\n",
        "    a = 'borrame'\n",
        "  replace.append(a)\n",
        "df_fil.loc[:,'LUGAR'] = replace"
      ],
      "metadata": {
        "id": "qVcDonsx6pCE"
      },
      "execution_count": null,
      "outputs": []
    },
    {
      "cell_type": "code",
      "source": [
        "TOREPLACE = ['SADINATA', 'SADRINATA']\n",
        "  \n",
        "for i in range(len(TOREPLACE)):\n",
        "  df_fil.loc[:,'LUGAR'] = df_fil['LUGAR'].str.replace(TOREPLACE[i],'S_A_R_D_I_N_A_T_A')\n",
        "  \n",
        "TOREPLACE = []"
      ],
      "metadata": {
        "id": "u1J--weZb-p2"
      },
      "execution_count": null,
      "outputs": []
    },
    {
      "cell_type": "code",
      "source": [
        "TOREPLACE = ['BACARAMANGA',  'BGMANGA' ,'RAMANGAC' ,'UCARAMANGA' ,'RAMANGA' , 'BCAMANGA' ]\n",
        "\n",
        "for i in range(len(TOREPLACE)):\n",
        "  df_fil.loc[:,'LUGAR'] = df_fil['LUGAR'].str.replace(TOREPLACE[i],'B_U_C_A_R_A_M_A_N_G_A')\n",
        "\n",
        "TOREPLACE = []"
      ],
      "metadata": {
        "id": "qyhea4zccJEz"
      },
      "execution_count": null,
      "outputs": []
    },
    {
      "cell_type": "code",
      "source": [
        "TOREPLACE = ['PMAPLONAC', 'PMAPLONA', 'PANPLONA', 'PLAMPLONA', 'PMALONA' ,'PSMPLONA', 'RAMANGAAPMPLNA']\n",
        "  \n",
        "for i in range(len(TOREPLACE)):\n",
        "  df_fil.loc[:,'LUGAR'] = df_fil['LUGAR'].str.replace(TOREPLACE[i],' P_A_M_P_L_O_N_A ')\n",
        "  \n",
        "TOREPLACE = []"
      ],
      "metadata": {
        "id": "nIGEWuZmcWCs"
      },
      "execution_count": null,
      "outputs": []
    },
    {
      "cell_type": "code",
      "source": [
        "#Se descartan las ubicaciones que no se pudieron determinar\n",
        "df_fil = df_fil[df_fil['LUGAR'].str.contains('_')].copy()"
      ],
      "metadata": {
        "id": "H1n18wZiGin0"
      },
      "execution_count": null,
      "outputs": []
    },
    {
      "cell_type": "code",
      "source": [
        "spec_chars = [\"!\",'\"',\"#\",\"%\",\"&\",\"'\",\"(\",\")\",\n",
        "              \"*\",\"+\",\",\",\"-\",\".\",\"/\",\":\",\";\",\"<\",\n",
        "              \"=\",\">\",\"?\",\"@\",\"[\",\"\\\\\",\"]\",\"^\",\"_\",\n",
        "              \"`\",\"{\",\"|\",\"}\",\"~\",\"–\"]\n",
        "for i in spec_chars:\n",
        "  df_fil.loc[:,'LUGAR'] = df_fil['LUGAR'].str.replace(i,'')\n",
        "\n",
        "TOREPLACE = []"
      ],
      "metadata": {
        "colab": {
          "base_uri": "https://localhost:8080/"
        },
        "id": "M8f9AgxUKZY-",
        "outputId": "c3c4b12b-a9dc-40b5-8b05-c84e6f1f0579"
      },
      "execution_count": null,
      "outputs": [
        {
          "output_type": "stream",
          "name": "stderr",
          "text": [
            "/usr/local/lib/python3.7/dist-packages/ipykernel_launcher.py:6: FutureWarning: The default value of regex will change from True to False in a future version. In addition, single character regular expressions will *not* be treated as literal strings when regex=True.\n",
            "  \n"
          ]
        }
      ]
    },
    {
      "cell_type": "code",
      "source": [
        "df_fil[df_fil['LUGAR'].str.contains('OCAÑA')]['LUGAR'].unique()"
      ],
      "metadata": {
        "colab": {
          "base_uri": "https://localhost:8080/"
        },
        "id": "jNjcagjSo-gF",
        "outputId": "e5531ade-0bfe-4cc5-8966-2e32e80ed4e2"
      },
      "execution_count": null,
      "outputs": [
        {
          "output_type": "execute_result",
          "data": {
            "text/plain": [
              "array(['OCAÑA SARDINATA', 'OCAÑA SARDINATA ABREGO', 'OCAÑA',\n",
              "       'OCAÑA SARDINATA METROS', 'OCAÑA PAMPLONA', 'OCAÑA CÚCUTATA',\n",
              "       'OCAÑA ABREGO', 'OCAÑA SARDINATA CÚCUTATA', 'SARDINATA OCAÑA',\n",
              "       'OCAÑA SARDINATA METROD', 'PUENTE OCAÑA'], dtype=object)"
            ]
          },
          "metadata": {},
          "execution_count": 276
        }
      ]
    },
    {
      "cell_type": "code",
      "source": [
        "TOREPLACE = ['OCAÑA SARDINATA CÚCUTATA','OCAÑA CÚCUTATA']\n",
        "#VIA OCAÑA-CÚCUTA\n",
        "for i in range(len(TOREPLACE)):\n",
        "  df_fil.loc[:,'LUGAR'] = df_fil['LUGAR'].str.replace(TOREPLACE[i],'VIA OCAÑA-CÚCUTA')\n",
        "\n",
        "TOREPLACE = []\n",
        "\n",
        "TOREPLACE = ['OCAÑA SARDINATA ABREGO','OCAÑA SARDINATA METROS','SARDINATA OCAÑA','OCAÑA SARDINATA METROD','OCAÑA SARDINATA']\n",
        "#VIA OCAÑA-SARDINATA\n",
        "for i in range(len(TOREPLACE)):\n",
        "  df_fil.loc[:,'LUGAR'] = df_fil['LUGAR'].str.replace(TOREPLACE[i],'VIA OCAÑA-SARDINATA')\n",
        "\n",
        "TOREPLACE = []\n",
        "\n",
        "TOREPLACE = ['PUENTE OCAÑA','OCAÑA']\n",
        "#OCAÑA\n",
        "for i in range(len(TOREPLACE)):\n",
        "  df_fil.loc[:,'LUGAR'] = df_fil['LUGAR'].str.replace(TOREPLACE[i],'OCAÑA')\n",
        "\n",
        "TOREPLACE = []\n",
        "\n",
        "TOREPLACE = ['OCAÑA PAMPLONA']\n",
        "#VIA OCAÑA-PAMPLONA\n",
        "for i in range(len(TOREPLACE)):\n",
        "  df_fil.loc[:,'LUGAR'] = df_fil['LUGAR'].str.replace(TOREPLACE[i],'VIA OCAÑA-PAMPLONA')\n",
        "\n",
        "TOREPLACE = []\n",
        "\n",
        "TOREPLACE = ['OCAÑA ABREGO']\n",
        "#VIA OCAÑA-ABREGO\n",
        "for i in range(len(TOREPLACE)):\n",
        "  df_fil.loc[:,'LUGAR'] = df_fil['LUGAR'].str.replace(TOREPLACE[i],'VIA OCAÑA-ABREGO')\n",
        "\n",
        "TOREPLACE = []"
      ],
      "metadata": {
        "id": "OM-SvI5kWtOm"
      },
      "execution_count": null,
      "outputs": []
    },
    {
      "cell_type": "code",
      "source": [
        "TOREPLACE = ['SARDINATA CÚCUTATA METROS','SARDINATA CÚCUTATA SARDINATA CÚCUTATA','CÚCUTATA SARDINATA','SARDINATA CÚCUTATA RISARALDA','SARDINATA CÚCUTATA LLANERO','SARDINATA CÚCUTATA KILOMETRO','AGUAZULIA SARDINATA CÚCUTATA','SARDINATA CÚCUTATA PEDREGALES','SARDINATA CÚCUTATA REPRESA','SARDINATA CÚCUTATA']\n",
        "#VIA SARDINATA-CUCUTA\n",
        "for i in range(len(TOREPLACE)):\n",
        "  df_fil.loc[:,'LUGAR'] = df_fil['LUGAR'].str.replace(TOREPLACE[i],'VIA SARDINATA-CUCUTA')\n",
        "\n",
        "TOREPLACE =[]"
      ],
      "metadata": {
        "id": "tMfRt7zAPYbP"
      },
      "execution_count": null,
      "outputs": []
    },
    {
      "cell_type": "code",
      "source": [
        "TOREPLACE = ['BUCARAMANGA PAMPLONA CÚCUTATA','CÚCUTATA BUCARAMANGA']\n",
        "#VIA BUCARAMANGA-CUCUTA\n",
        "for i in range(len(TOREPLACE)):\n",
        "  df_fil.loc[:,'LUGAR'] = df_fil['LUGAR'].str.replace(TOREPLACE[i],'VIA BUCARAMANGA-CUCUTA')\n",
        "\n",
        "TOREPLACE = ['BUCARAMANGA APMPLNA','BACABUCARAMANGA PAMPLONA','BUCARAMANGA BUCARAMANGA PAMPLONA BUCARAMANGA BUCARAMANGA PAMPLONA','PAMPLONA BUCARAMANGA BUCARAMANGA',\n",
        "             'PAMPLONA BUCARAMANGA','BUCARAMANGA BUCARAMANGA  PAMPLONA','SECTOR MIGUELERA PAMPLONA CÚCUTATA','BUCARAMANGA PAMPLONA MUTISCUA',\n",
        "             'LAGUNA BUCARAMANGA BUCARAMANGA PAMPLONA','UCABUCARAMANGA PAMPLONA'\n",
        "             'BUCARAMANGA BUCARAMANGA PAMPLONA LAGUNA','BUCARAMANGA BUCARAMANGA PAMPLONA','BUCARAMANGA PAMPLONA','BUCARAMANGA  PAMPLONA']\n",
        "#VIA PAMPLONA-BUCARAMANGA\n",
        "for i in range(len(TOREPLACE)):\n",
        "  df_fil.loc[:,'LUGAR'] = df_fil['LUGAR'].str.replace(TOREPLACE[i],'VIA PAMPLONA-BUCARAMANGA')\n",
        "\n",
        "TOREPLACE = ['PRESIDENTE CÚCUTATA PAMPLONA','PAMPLONA CÚCUTATA ENTRADA BOCHALEMA','PRESIDENTE  PAMPLONA  CÚCUTATA',\n",
        "             'PAMPLONA CÚCUTATA VOLCAN', 'PAMPLONA CÚCUTATA BOCHALEMA','PAMPLONA CÚCUTATA MIGUELERA', 'PAMPLONA CÚCUTATA LAGUNA',\n",
        "             'PAMPLONA CÚCUTATA KILOMETRO','PAMPLONA CÚCUTATA PAMPLONA CÚCUTATA','PAMPLONA CÚCUTATA DIAMANTE', 'PIRULAY PAMPLONA',\n",
        "             'PAMPLONA CÚCUTATA SALVADOR','PRESIDENTE PAMPLONA CÚCUTATA','PRESIDENTE PAMPLONA','PAMPLONA CÚCUTATA PIRULAY',\n",
        "             'CÚCUTATA PAMPLONA','PAMPLONA CÚCUTATA BOCHALEM','PAMPLONA CÚCUTATA','PAMPLONA  CÚCUTATA','PAMPLONA CHINACOTA']\n",
        "             \n",
        "#VIA PAMPLONA-CUCUTA\n",
        "for i in range(len(TOREPLACE)):\n",
        "  df_fil.loc[:,'LUGAR'] = df_fil['LUGAR'].str.replace(TOREPLACE[i],'VIA PAMPLONA-CUCUTA')\n",
        "\n",
        "df_fil.loc[:,'LUGAR'] = df_fil['LUGAR'].str.strip()\n",
        "df_fil.loc[:,'LUGAR'] = df_fil['LUGAR'].str.replace('VIA PAMPLONA-BUCARAMANGA LAGUNA','VIA PAMPLONA-BUCARAMANGA')\n",
        "df_fil.loc[:,'LUGAR'] = df_fil['LUGAR'].str.replace('UCAVIA PAMPLONA-BUCARAMANGA','VIA PAMPLONA-BUCARAMANGA')\n",
        "TOREPLACE =[]"
      ],
      "metadata": {
        "id": "iKCECSxqsKmL"
      },
      "execution_count": null,
      "outputs": []
    },
    {
      "cell_type": "code",
      "source": [
        "df_fil.loc[:,'LUGAR'] = df_fil['LUGAR'].str.replace('SARDINATA AZULIA','VIA SARDINATA-CUCUTA')\n",
        "df_fil.loc[:,'LUGAR'] = df_fil['LUGAR'].str.replace('SARDINATA CACHAMAY','VIA SARDINATA-CUCUTA')\n",
        "df_fil.loc[:,'LUGAR'] = df_fil['LUGAR'].str.replace('SARDINATA CORNEJO','VIA SARDINATA-CUCUTA')\n",
        "df_fil.loc[:,'LUGAR'] = df_fil['LUGAR'].str.replace('SARDINATA PUENTE CORNEJO','VIA SARDINATA-CUCUTA')\n",
        "df_fil.loc[:,'LUGAR'] = df_fil['LUGAR'].str.replace('SARDINATA COLORADA','VIA SARDINATA-PAMPLONA')\n",
        "df_fil.loc[:,'LUGAR'] = df_fil['LUGAR'].str.replace('SARDINATA PAMPLONA','VIA SARDINATA-PAMPLONA')\n",
        "df_fil.loc[:,'LUGAR'] = df_fil['LUGAR'].str.replace('SARDINATA PUENTE PIEDRAS','SARDINATA')\n",
        "df_fil.loc[:,'LUGAR'] = df_fil['LUGAR'].str.replace('BUCARAMANGA BUCARAMANGA','BUCARAMANGA')"
      ],
      "metadata": {
        "id": "grJmAAjT51C_"
      },
      "execution_count": null,
      "outputs": []
    },
    {
      "cell_type": "code",
      "source": [
        "TOREPLACE = ['CORNEJO CÚCUTATA', 'CÚCUTATA CORNEJO', 'CORNEJOC CÚCUTATA']\n",
        "for i in range(len(TOREPLACE)):\n",
        "  df_fil.loc[:,'LUGAR'] = df_fil['LUGAR'].str.replace(TOREPLACE[i],'VIA CORNEJO-CUCUTA')\n",
        "\n",
        "df_fil.loc[:,'LUGAR'] = df_fil['LUGAR'].str.replace('BUCARAMANGA VIA PAMPLONA-BUCARAMANGA','VIA PAMPLONA-BUCARAMANGA')"
      ],
      "metadata": {
        "id": "haKKvvBAp2hL"
      },
      "execution_count": null,
      "outputs": []
    },
    {
      "cell_type": "code",
      "source": [
        "len(df_fil['LUGAR'].unique())"
      ],
      "metadata": {
        "colab": {
          "base_uri": "https://localhost:8080/"
        },
        "id": "YC_5xeAp8laM",
        "outputId": "10ed934a-8fd5-43f7-adb7-4c649b85c306"
      },
      "execution_count": null,
      "outputs": [
        {
          "output_type": "execute_result",
          "data": {
            "text/plain": [
              "33"
            ]
          },
          "metadata": {},
          "execution_count": 282
        }
      ]
    },
    {
      "cell_type": "code",
      "source": [
        "df_fil['LUGAR'].unique()"
      ],
      "metadata": {
        "colab": {
          "base_uri": "https://localhost:8080/"
        },
        "id": "Xnw4Ithh5SGn",
        "outputId": "c2aa0d03-96a5-4b31-eb6d-625f5bdff0fd"
      },
      "execution_count": null,
      "outputs": [
        {
          "output_type": "execute_result",
          "data": {
            "text/plain": [
              "array(['VIA SARDINATA-CUCUTA', 'VIA OCAÑA-SARDINATA',\n",
              "       'VIA PAMPLONA-BUCARAMANGA', 'VIA PAMPLONA-CUCUTA',\n",
              "       'BUCARAMANGA CÚCUTATA', 'CÚCUTATA PUERTO SANTANDER',\n",
              "       'TERMOTASAJEROC CÚCUTATA', 'VIA CORNEJO-CUCUTA',\n",
              "       'VIA BUCARAMANGA-CUCUTA', 'TERMOTASAJERO CÚCUTATA', 'SARDINATA',\n",
              "       'PAMPLONA', 'BUCARAMANGA', 'OCAÑA', 'CÚCUTATA',\n",
              "       'VIA OCAÑA-PAMPLONA', 'TERMOTASAJERC CÚCUTATA', 'VIA OCAÑA-CÚCUTA',\n",
              "       'CÚCUTATA CRONEJO', 'VIA OCAÑA-ABREGO', 'VIA SARDINATA-PAMPLONA',\n",
              "       'PRESIDENTE CÚCUTATA', 'SARDINATA ABREGO', 'SARDINATA RISARALDA',\n",
              "       'BUCARAMANGA LAGUNA', 'SARDINATA CAMILANDIA', 'CHINACOTA CÚCUTATA',\n",
              "       'BOGOTA SARDINATA', 'BARBOSA CÚCUTATA', 'BUCARAMANGA FLORENCIA',\n",
              "       'SANTANDER CÚCUTATA', 'CÚCUTATA CAYETANO', 'SARDINATA FORTUNA'],\n",
              "      dtype=object)"
            ]
          },
          "metadata": {},
          "execution_count": 283
        }
      ]
    },
    {
      "cell_type": "code",
      "source": [
        "df_fil"
      ],
      "metadata": {
        "colab": {
          "base_uri": "https://localhost:8080/",
          "height": 572
        },
        "id": "UaeLjNBZ9nL5",
        "outputId": "8f5ef065-074a-4eef-c266-3ce44dccc464"
      },
      "execution_count": null,
      "outputs": [
        {
          "output_type": "execute_result",
          "data": {
            "text/plain": [
              "         COMPARENDO       FECHA CÓDIGO INFRACCIÓN  \\\n",
              "0      9.223370e+18  18/09/2016               B02   \n",
              "2      9.223370e+18  22/04/2016               B02   \n",
              "3      9.223370e+18  07/05/2016               B02   \n",
              "4      9.223370e+18  25/03/2016               B02   \n",
              "5      9.223370e+18  17/07/2016               B01   \n",
              "...             ...         ...               ...   \n",
              "25036  1.000000e+20  08/12/2020               C14   \n",
              "25037  1.000000e+20  11/12/2020               C35   \n",
              "25038  1.000000e+20  12/12/2020               C35   \n",
              "25039  1.000000e+19  08/12/2019               C14   \n",
              "25040  1.000000e+20  13/01/2018               D02   \n",
              "\n",
              "                                              INFRACCION  \\\n",
              "0      Conducir un vehículo con la licencia de conduc...   \n",
              "2      Conducir un vehículo con la licencia de conduc...   \n",
              "3      Conducir un vehículo con la licencia de conduc...   \n",
              "4      Conducir un vehículo con la licencia de conduc...   \n",
              "5      Conducir un vehículo sin llevar consigo la lic...   \n",
              "...                                                  ...   \n",
              "25036  Transitar por los siguientes sitios restringid...   \n",
              "25037  No realizar la revisión técnico-mecánica en el...   \n",
              "25038  No realizar la revisión técnico-mecánica en el...   \n",
              "25039  Transitar por los siguientes sitios restringid...   \n",
              "25040  Conducir sin portar el Seguro Obligatorio de A...   \n",
              "\n",
              "                          LUGAR CLASE VEHICULO    VALOR  \n",
              "0          VIA SARDINATA-CUCUTA      AUTOMOVIL  183,854  \n",
              "2           VIA OCAÑA-SARDINATA      AUTOMOVIL  183,855  \n",
              "3      VIA PAMPLONA-BUCARAMANGA      CAMIONETA  183,855  \n",
              "4      VIA PAMPLONA-BUCARAMANGA      CAMIONETA  183,855  \n",
              "5          VIA SARDINATA-CUCUTA    MOTOCICLETA  183,854  \n",
              "...                         ...            ...      ...  \n",
              "25036      VIA SARDINATA-CUCUTA         CAMION  438,902  \n",
              "25037      VIA SARDINATA-CUCUTA            BUS  438,902  \n",
              "25038      VIA SARDINATA-CUCUTA         BUSETA  438,902  \n",
              "25039      VIA SARDINATA-CUCUTA       VOLQUETA  414,058  \n",
              "25040      VIA SARDINATA-CUCUTA    MOTOCICLETA  781,242  \n",
              "\n",
              "[23873 rows x 7 columns]"
            ],
            "text/html": [
              "\n",
              "  <div id=\"df-5c9f9e22-1afd-4aef-ba0a-4834493c6794\">\n",
              "    <div class=\"colab-df-container\">\n",
              "      <div>\n",
              "<style scoped>\n",
              "    .dataframe tbody tr th:only-of-type {\n",
              "        vertical-align: middle;\n",
              "    }\n",
              "\n",
              "    .dataframe tbody tr th {\n",
              "        vertical-align: top;\n",
              "    }\n",
              "\n",
              "    .dataframe thead th {\n",
              "        text-align: right;\n",
              "    }\n",
              "</style>\n",
              "<table border=\"1\" class=\"dataframe\">\n",
              "  <thead>\n",
              "    <tr style=\"text-align: right;\">\n",
              "      <th></th>\n",
              "      <th>COMPARENDO</th>\n",
              "      <th>FECHA</th>\n",
              "      <th>CÓDIGO INFRACCIÓN</th>\n",
              "      <th>INFRACCION</th>\n",
              "      <th>LUGAR</th>\n",
              "      <th>CLASE VEHICULO</th>\n",
              "      <th>VALOR</th>\n",
              "    </tr>\n",
              "  </thead>\n",
              "  <tbody>\n",
              "    <tr>\n",
              "      <th>0</th>\n",
              "      <td>9.223370e+18</td>\n",
              "      <td>18/09/2016</td>\n",
              "      <td>B02</td>\n",
              "      <td>Conducir un vehículo con la licencia de conduc...</td>\n",
              "      <td>VIA SARDINATA-CUCUTA</td>\n",
              "      <td>AUTOMOVIL</td>\n",
              "      <td>183,854</td>\n",
              "    </tr>\n",
              "    <tr>\n",
              "      <th>2</th>\n",
              "      <td>9.223370e+18</td>\n",
              "      <td>22/04/2016</td>\n",
              "      <td>B02</td>\n",
              "      <td>Conducir un vehículo con la licencia de conduc...</td>\n",
              "      <td>VIA OCAÑA-SARDINATA</td>\n",
              "      <td>AUTOMOVIL</td>\n",
              "      <td>183,855</td>\n",
              "    </tr>\n",
              "    <tr>\n",
              "      <th>3</th>\n",
              "      <td>9.223370e+18</td>\n",
              "      <td>07/05/2016</td>\n",
              "      <td>B02</td>\n",
              "      <td>Conducir un vehículo con la licencia de conduc...</td>\n",
              "      <td>VIA PAMPLONA-BUCARAMANGA</td>\n",
              "      <td>CAMIONETA</td>\n",
              "      <td>183,855</td>\n",
              "    </tr>\n",
              "    <tr>\n",
              "      <th>4</th>\n",
              "      <td>9.223370e+18</td>\n",
              "      <td>25/03/2016</td>\n",
              "      <td>B02</td>\n",
              "      <td>Conducir un vehículo con la licencia de conduc...</td>\n",
              "      <td>VIA PAMPLONA-BUCARAMANGA</td>\n",
              "      <td>CAMIONETA</td>\n",
              "      <td>183,855</td>\n",
              "    </tr>\n",
              "    <tr>\n",
              "      <th>5</th>\n",
              "      <td>9.223370e+18</td>\n",
              "      <td>17/07/2016</td>\n",
              "      <td>B01</td>\n",
              "      <td>Conducir un vehículo sin llevar consigo la lic...</td>\n",
              "      <td>VIA SARDINATA-CUCUTA</td>\n",
              "      <td>MOTOCICLETA</td>\n",
              "      <td>183,854</td>\n",
              "    </tr>\n",
              "    <tr>\n",
              "      <th>...</th>\n",
              "      <td>...</td>\n",
              "      <td>...</td>\n",
              "      <td>...</td>\n",
              "      <td>...</td>\n",
              "      <td>...</td>\n",
              "      <td>...</td>\n",
              "      <td>...</td>\n",
              "    </tr>\n",
              "    <tr>\n",
              "      <th>25036</th>\n",
              "      <td>1.000000e+20</td>\n",
              "      <td>08/12/2020</td>\n",
              "      <td>C14</td>\n",
              "      <td>Transitar por los siguientes sitios restringid...</td>\n",
              "      <td>VIA SARDINATA-CUCUTA</td>\n",
              "      <td>CAMION</td>\n",
              "      <td>438,902</td>\n",
              "    </tr>\n",
              "    <tr>\n",
              "      <th>25037</th>\n",
              "      <td>1.000000e+20</td>\n",
              "      <td>11/12/2020</td>\n",
              "      <td>C35</td>\n",
              "      <td>No realizar la revisión técnico-mecánica en el...</td>\n",
              "      <td>VIA SARDINATA-CUCUTA</td>\n",
              "      <td>BUS</td>\n",
              "      <td>438,902</td>\n",
              "    </tr>\n",
              "    <tr>\n",
              "      <th>25038</th>\n",
              "      <td>1.000000e+20</td>\n",
              "      <td>12/12/2020</td>\n",
              "      <td>C35</td>\n",
              "      <td>No realizar la revisión técnico-mecánica en el...</td>\n",
              "      <td>VIA SARDINATA-CUCUTA</td>\n",
              "      <td>BUSETA</td>\n",
              "      <td>438,902</td>\n",
              "    </tr>\n",
              "    <tr>\n",
              "      <th>25039</th>\n",
              "      <td>1.000000e+19</td>\n",
              "      <td>08/12/2019</td>\n",
              "      <td>C14</td>\n",
              "      <td>Transitar por los siguientes sitios restringid...</td>\n",
              "      <td>VIA SARDINATA-CUCUTA</td>\n",
              "      <td>VOLQUETA</td>\n",
              "      <td>414,058</td>\n",
              "    </tr>\n",
              "    <tr>\n",
              "      <th>25040</th>\n",
              "      <td>1.000000e+20</td>\n",
              "      <td>13/01/2018</td>\n",
              "      <td>D02</td>\n",
              "      <td>Conducir sin portar el Seguro Obligatorio de A...</td>\n",
              "      <td>VIA SARDINATA-CUCUTA</td>\n",
              "      <td>MOTOCICLETA</td>\n",
              "      <td>781,242</td>\n",
              "    </tr>\n",
              "  </tbody>\n",
              "</table>\n",
              "<p>23873 rows × 7 columns</p>\n",
              "</div>\n",
              "      <button class=\"colab-df-convert\" onclick=\"convertToInteractive('df-5c9f9e22-1afd-4aef-ba0a-4834493c6794')\"\n",
              "              title=\"Convert this dataframe to an interactive table.\"\n",
              "              style=\"display:none;\">\n",
              "        \n",
              "  <svg xmlns=\"http://www.w3.org/2000/svg\" height=\"24px\"viewBox=\"0 0 24 24\"\n",
              "       width=\"24px\">\n",
              "    <path d=\"M0 0h24v24H0V0z\" fill=\"none\"/>\n",
              "    <path d=\"M18.56 5.44l.94 2.06.94-2.06 2.06-.94-2.06-.94-.94-2.06-.94 2.06-2.06.94zm-11 1L8.5 8.5l.94-2.06 2.06-.94-2.06-.94L8.5 2.5l-.94 2.06-2.06.94zm10 10l.94 2.06.94-2.06 2.06-.94-2.06-.94-.94-2.06-.94 2.06-2.06.94z\"/><path d=\"M17.41 7.96l-1.37-1.37c-.4-.4-.92-.59-1.43-.59-.52 0-1.04.2-1.43.59L10.3 9.45l-7.72 7.72c-.78.78-.78 2.05 0 2.83L4 21.41c.39.39.9.59 1.41.59.51 0 1.02-.2 1.41-.59l7.78-7.78 2.81-2.81c.8-.78.8-2.07 0-2.86zM5.41 20L4 18.59l7.72-7.72 1.47 1.35L5.41 20z\"/>\n",
              "  </svg>\n",
              "      </button>\n",
              "      \n",
              "  <style>\n",
              "    .colab-df-container {\n",
              "      display:flex;\n",
              "      flex-wrap:wrap;\n",
              "      gap: 12px;\n",
              "    }\n",
              "\n",
              "    .colab-df-convert {\n",
              "      background-color: #E8F0FE;\n",
              "      border: none;\n",
              "      border-radius: 50%;\n",
              "      cursor: pointer;\n",
              "      display: none;\n",
              "      fill: #1967D2;\n",
              "      height: 32px;\n",
              "      padding: 0 0 0 0;\n",
              "      width: 32px;\n",
              "    }\n",
              "\n",
              "    .colab-df-convert:hover {\n",
              "      background-color: #E2EBFA;\n",
              "      box-shadow: 0px 1px 2px rgba(60, 64, 67, 0.3), 0px 1px 3px 1px rgba(60, 64, 67, 0.15);\n",
              "      fill: #174EA6;\n",
              "    }\n",
              "\n",
              "    [theme=dark] .colab-df-convert {\n",
              "      background-color: #3B4455;\n",
              "      fill: #D2E3FC;\n",
              "    }\n",
              "\n",
              "    [theme=dark] .colab-df-convert:hover {\n",
              "      background-color: #434B5C;\n",
              "      box-shadow: 0px 1px 3px 1px rgba(0, 0, 0, 0.15);\n",
              "      filter: drop-shadow(0px 1px 2px rgba(0, 0, 0, 0.3));\n",
              "      fill: #FFFFFF;\n",
              "    }\n",
              "  </style>\n",
              "\n",
              "      <script>\n",
              "        const buttonEl =\n",
              "          document.querySelector('#df-5c9f9e22-1afd-4aef-ba0a-4834493c6794 button.colab-df-convert');\n",
              "        buttonEl.style.display =\n",
              "          google.colab.kernel.accessAllowed ? 'block' : 'none';\n",
              "\n",
              "        async function convertToInteractive(key) {\n",
              "          const element = document.querySelector('#df-5c9f9e22-1afd-4aef-ba0a-4834493c6794');\n",
              "          const dataTable =\n",
              "            await google.colab.kernel.invokeFunction('convertToInteractive',\n",
              "                                                     [key], {});\n",
              "          if (!dataTable) return;\n",
              "\n",
              "          const docLinkHtml = 'Like what you see? Visit the ' +\n",
              "            '<a target=\"_blank\" href=https://colab.research.google.com/notebooks/data_table.ipynb>data table notebook</a>'\n",
              "            + ' to learn more about interactive tables.';\n",
              "          element.innerHTML = '';\n",
              "          dataTable['output_type'] = 'display_data';\n",
              "          await google.colab.output.renderOutput(dataTable, element);\n",
              "          const docLink = document.createElement('div');\n",
              "          docLink.innerHTML = docLinkHtml;\n",
              "          element.appendChild(docLink);\n",
              "        }\n",
              "      </script>\n",
              "    </div>\n",
              "  </div>\n",
              "  "
            ]
          },
          "metadata": {},
          "execution_count": 284
        }
      ]
    },
    {
      "cell_type": "code",
      "source": [
        "df_fil.to_csv('/content/drive/Shareddrives/Cálculo/DataSetDefFixed.csv',encoding='latin-1')"
      ],
      "metadata": {
        "id": "juoXE-WU6Ez8"
      },
      "execution_count": null,
      "outputs": []
    }
  ]
}