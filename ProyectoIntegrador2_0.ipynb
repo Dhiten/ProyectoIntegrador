{
  "cells": [
    {
      "cell_type": "markdown",
      "metadata": {
        "id": "view-in-github",
        "colab_type": "text"
      },
      "source": [
        "<a href=\"https://colab.research.google.com/github/Dhiten/ProyectoIntegrador/blob/main/ProyectoIntegrador2_0.ipynb\" target=\"_parent\"><img src=\"https://colab.research.google.com/assets/colab-badge.svg\" alt=\"Open In Colab\"/></a>"
      ]
    },
    {
      "cell_type": "markdown",
      "metadata": {
        "id": "SzNpD5XGWXiV"
      },
      "source": [
        "#Definición de librerias"
      ]
    },
    {
      "cell_type": "code",
      "execution_count": null,
      "metadata": {
        "colab": {
          "base_uri": "https://localhost:8080/"
        },
        "id": "s3Tvd2P3tLoz",
        "outputId": "7fe18c5a-8a1f-46c5-d082-8eccf20114f5"
      },
      "outputs": [
        {
          "output_type": "stream",
          "name": "stdout",
          "text": [
            "Drive already mounted at /content/drive; to attempt to forcibly remount, call drive.mount(\"/content/drive\", force_remount=True).\n"
          ]
        }
      ],
      "source": [
        "from google.colab import drive\n",
        "import numpy as np\n",
        "import difflib\n",
        "import matplotlib.pyplot as plt\n",
        "import pandas as pd\n",
        "from sklearn.model_selection import cross_val_score, cross_validate,KFold,StratifiedKFold\n",
        "import seaborn as sns\n",
        "drive.mount('/content/drive')\n",
        "from sklearn.model_selection import train_test_split\n",
        "from sklearn.linear_model import LogisticRegression\n",
        "from sklearn.pipeline import make_pipeline\n",
        "from sklearn.preprocessing import StandardScaler\n",
        "from sklearn.multiclass import OneVsRestClassifier\n",
        "from sklearn.multioutput import MultiOutputRegressor,MultiOutputClassifier\n",
        "from sklearn.neural_network import MLPClassifier\n",
        "from sklearn.metrics import recall_score,accuracy_score,plot_confusion_matrix,confusion_matrix,precision_score,f1_score, roc_curve, auc,multilabel_confusion_matrix,auc \n",
        "\n"
      ]
    },
    {
      "cell_type": "code",
      "execution_count": null,
      "metadata": {
        "colab": {
          "base_uri": "https://localhost:8080/",
          "height": 206
        },
        "id": "6SrzoNTRR7oh",
        "outputId": "aee398c9-3605-4f35-ae5f-5144bd3863a2"
      },
      "outputs": [
        {
          "output_type": "execute_result",
          "data": {
            "text/plain": [
              "   Unnamed: 0    COMPARENDO  FECHA CÓDIGO INFRACCIÓN  \\\n",
              "0           0  9.220000e+18      6               B02   \n",
              "1           2  9.220000e+18      4               B02   \n",
              "2           3  9.220000e+18      1               B02   \n",
              "3           4  9.220000e+18      4               B02   \n",
              "4           5  9.220000e+18      6               B01   \n",
              "\n",
              "                                          INFRACCION  \\\n",
              "0  Conducir un vehículo con la licencia de conduc...   \n",
              "1  Conducir un vehículo con la licencia de conduc...   \n",
              "2  Conducir un vehículo con la licencia de conduc...   \n",
              "3  Conducir un vehículo con la licencia de conduc...   \n",
              "4  Conducir un vehículo sin llevar consigo la lic...   \n",
              "\n",
              "                      LUGAR CLASE VEHICULO    VALOR  \n",
              "0      VIA SARDINATA-CUCUTA      AUTOMOVIL  183,854  \n",
              "1       VIA OCAÑA-SARDINATA      AUTOMOVIL  183,855  \n",
              "2  VIA PAMPLONA-BUCARAMANGA      CAMIONETA  183,855  \n",
              "3  VIA PAMPLONA-BUCARAMANGA      CAMIONETA  183,855  \n",
              "4      VIA SARDINATA-CUCUTA    MOTOCICLETA  183,854  "
            ],
            "text/html": [
              "\n",
              "  <div id=\"df-49abcff2-44b0-46d3-a045-7e74aa9c74e7\">\n",
              "    <div class=\"colab-df-container\">\n",
              "      <div>\n",
              "<style scoped>\n",
              "    .dataframe tbody tr th:only-of-type {\n",
              "        vertical-align: middle;\n",
              "    }\n",
              "\n",
              "    .dataframe tbody tr th {\n",
              "        vertical-align: top;\n",
              "    }\n",
              "\n",
              "    .dataframe thead th {\n",
              "        text-align: right;\n",
              "    }\n",
              "</style>\n",
              "<table border=\"1\" class=\"dataframe\">\n",
              "  <thead>\n",
              "    <tr style=\"text-align: right;\">\n",
              "      <th></th>\n",
              "      <th>Unnamed: 0</th>\n",
              "      <th>COMPARENDO</th>\n",
              "      <th>FECHA</th>\n",
              "      <th>CÓDIGO INFRACCIÓN</th>\n",
              "      <th>INFRACCION</th>\n",
              "      <th>LUGAR</th>\n",
              "      <th>CLASE VEHICULO</th>\n",
              "      <th>VALOR</th>\n",
              "    </tr>\n",
              "  </thead>\n",
              "  <tbody>\n",
              "    <tr>\n",
              "      <th>0</th>\n",
              "      <td>0</td>\n",
              "      <td>9.220000e+18</td>\n",
              "      <td>6</td>\n",
              "      <td>B02</td>\n",
              "      <td>Conducir un vehículo con la licencia de conduc...</td>\n",
              "      <td>VIA SARDINATA-CUCUTA</td>\n",
              "      <td>AUTOMOVIL</td>\n",
              "      <td>183,854</td>\n",
              "    </tr>\n",
              "    <tr>\n",
              "      <th>1</th>\n",
              "      <td>2</td>\n",
              "      <td>9.220000e+18</td>\n",
              "      <td>4</td>\n",
              "      <td>B02</td>\n",
              "      <td>Conducir un vehículo con la licencia de conduc...</td>\n",
              "      <td>VIA OCAÑA-SARDINATA</td>\n",
              "      <td>AUTOMOVIL</td>\n",
              "      <td>183,855</td>\n",
              "    </tr>\n",
              "    <tr>\n",
              "      <th>2</th>\n",
              "      <td>3</td>\n",
              "      <td>9.220000e+18</td>\n",
              "      <td>1</td>\n",
              "      <td>B02</td>\n",
              "      <td>Conducir un vehículo con la licencia de conduc...</td>\n",
              "      <td>VIA PAMPLONA-BUCARAMANGA</td>\n",
              "      <td>CAMIONETA</td>\n",
              "      <td>183,855</td>\n",
              "    </tr>\n",
              "    <tr>\n",
              "      <th>3</th>\n",
              "      <td>4</td>\n",
              "      <td>9.220000e+18</td>\n",
              "      <td>4</td>\n",
              "      <td>B02</td>\n",
              "      <td>Conducir un vehículo con la licencia de conduc...</td>\n",
              "      <td>VIA PAMPLONA-BUCARAMANGA</td>\n",
              "      <td>CAMIONETA</td>\n",
              "      <td>183,855</td>\n",
              "    </tr>\n",
              "    <tr>\n",
              "      <th>4</th>\n",
              "      <td>5</td>\n",
              "      <td>9.220000e+18</td>\n",
              "      <td>6</td>\n",
              "      <td>B01</td>\n",
              "      <td>Conducir un vehículo sin llevar consigo la lic...</td>\n",
              "      <td>VIA SARDINATA-CUCUTA</td>\n",
              "      <td>MOTOCICLETA</td>\n",
              "      <td>183,854</td>\n",
              "    </tr>\n",
              "  </tbody>\n",
              "</table>\n",
              "</div>\n",
              "      <button class=\"colab-df-convert\" onclick=\"convertToInteractive('df-49abcff2-44b0-46d3-a045-7e74aa9c74e7')\"\n",
              "              title=\"Convert this dataframe to an interactive table.\"\n",
              "              style=\"display:none;\">\n",
              "        \n",
              "  <svg xmlns=\"http://www.w3.org/2000/svg\" height=\"24px\"viewBox=\"0 0 24 24\"\n",
              "       width=\"24px\">\n",
              "    <path d=\"M0 0h24v24H0V0z\" fill=\"none\"/>\n",
              "    <path d=\"M18.56 5.44l.94 2.06.94-2.06 2.06-.94-2.06-.94-.94-2.06-.94 2.06-2.06.94zm-11 1L8.5 8.5l.94-2.06 2.06-.94-2.06-.94L8.5 2.5l-.94 2.06-2.06.94zm10 10l.94 2.06.94-2.06 2.06-.94-2.06-.94-.94-2.06-.94 2.06-2.06.94z\"/><path d=\"M17.41 7.96l-1.37-1.37c-.4-.4-.92-.59-1.43-.59-.52 0-1.04.2-1.43.59L10.3 9.45l-7.72 7.72c-.78.78-.78 2.05 0 2.83L4 21.41c.39.39.9.59 1.41.59.51 0 1.02-.2 1.41-.59l7.78-7.78 2.81-2.81c.8-.78.8-2.07 0-2.86zM5.41 20L4 18.59l7.72-7.72 1.47 1.35L5.41 20z\"/>\n",
              "  </svg>\n",
              "      </button>\n",
              "      \n",
              "  <style>\n",
              "    .colab-df-container {\n",
              "      display:flex;\n",
              "      flex-wrap:wrap;\n",
              "      gap: 12px;\n",
              "    }\n",
              "\n",
              "    .colab-df-convert {\n",
              "      background-color: #E8F0FE;\n",
              "      border: none;\n",
              "      border-radius: 50%;\n",
              "      cursor: pointer;\n",
              "      display: none;\n",
              "      fill: #1967D2;\n",
              "      height: 32px;\n",
              "      padding: 0 0 0 0;\n",
              "      width: 32px;\n",
              "    }\n",
              "\n",
              "    .colab-df-convert:hover {\n",
              "      background-color: #E2EBFA;\n",
              "      box-shadow: 0px 1px 2px rgba(60, 64, 67, 0.3), 0px 1px 3px 1px rgba(60, 64, 67, 0.15);\n",
              "      fill: #174EA6;\n",
              "    }\n",
              "\n",
              "    [theme=dark] .colab-df-convert {\n",
              "      background-color: #3B4455;\n",
              "      fill: #D2E3FC;\n",
              "    }\n",
              "\n",
              "    [theme=dark] .colab-df-convert:hover {\n",
              "      background-color: #434B5C;\n",
              "      box-shadow: 0px 1px 3px 1px rgba(0, 0, 0, 0.15);\n",
              "      filter: drop-shadow(0px 1px 2px rgba(0, 0, 0, 0.3));\n",
              "      fill: #FFFFFF;\n",
              "    }\n",
              "  </style>\n",
              "\n",
              "      <script>\n",
              "        const buttonEl =\n",
              "          document.querySelector('#df-49abcff2-44b0-46d3-a045-7e74aa9c74e7 button.colab-df-convert');\n",
              "        buttonEl.style.display =\n",
              "          google.colab.kernel.accessAllowed ? 'block' : 'none';\n",
              "\n",
              "        async function convertToInteractive(key) {\n",
              "          const element = document.querySelector('#df-49abcff2-44b0-46d3-a045-7e74aa9c74e7');\n",
              "          const dataTable =\n",
              "            await google.colab.kernel.invokeFunction('convertToInteractive',\n",
              "                                                     [key], {});\n",
              "          if (!dataTable) return;\n",
              "\n",
              "          const docLinkHtml = 'Like what you see? Visit the ' +\n",
              "            '<a target=\"_blank\" href=https://colab.research.google.com/notebooks/data_table.ipynb>data table notebook</a>'\n",
              "            + ' to learn more about interactive tables.';\n",
              "          element.innerHTML = '';\n",
              "          dataTable['output_type'] = 'display_data';\n",
              "          await google.colab.output.renderOutput(dataTable, element);\n",
              "          const docLink = document.createElement('div');\n",
              "          docLink.innerHTML = docLinkHtml;\n",
              "          element.appendChild(docLink);\n",
              "        }\n",
              "      </script>\n",
              "    </div>\n",
              "  </div>\n",
              "  "
            ]
          },
          "metadata": {},
          "execution_count": 2
        }
      ],
      "source": [
        "df= pd.read_csv(\"/content/drive/Shareddrives/Cálculo/DataSetDefFixed.csv\",encoding='latin-1')\n",
        "df['FECHA']=pd.to_datetime(df['FECHA']).dt.weekday\n",
        "df['COMPARENDO']=pd.to_numeric(df['COMPARENDO'])\n",
        "df.head()"
      ]
    },
    {
      "cell_type": "markdown",
      "metadata": {
        "id": "RszLpkjXS7mz"
      },
      "source": [
        "#Comparendos por lugar"
      ]
    },
    {
      "cell_type": "code",
      "execution_count": null,
      "metadata": {
        "colab": {
          "base_uri": "https://localhost:8080/",
          "height": 507
        },
        "id": "fG65sTdeSieI",
        "outputId": "16ba78e2-6965-4361-bc13-388c22f61e03"
      },
      "outputs": [
        {
          "output_type": "execute_result",
          "data": {
            "text/plain": [
              "Text(0, 0.5, 'Cantidad infracciones')"
            ]
          },
          "metadata": {},
          "execution_count": 12
        },
        {
          "output_type": "display_data",
          "data": {
            "text/plain": [
              "<Figure size 2160x720 with 1 Axes>"
            ],
            "image/png": "[encoded data removed]"
          },
          "metadata": {}
        }
      ],
      "source": [
        "data = df.groupby('LUGAR').count().sort_values(by='INFRACCION', ascending=False)\n",
        "_, ax = plt.subplots(figsize=(30,10))\n",
        "ax.set_xticklabels(ax.get_xticklabels(),rotation=90)\n",
        "sns.barplot(y = data['INFRACCION'], x = data.index, ci=None, palette=\"crest\",ax=ax);#lugar vs infraccion\n",
        "ax.set_ylabel(\"Cantidad infracciones\")"
      ]
    },
    {
      "cell_type": "markdown",
      "metadata": {
        "id": "7J6UCsY0TThq"
      },
      "source": [
        "#Comparendos por vehiculo"
      ]
    },
    {
      "cell_type": "code",
      "execution_count": null,
      "metadata": {
        "colab": {
          "base_uri": "https://localhost:8080/",
          "height": 694
        },
        "id": "yd5hces9TFsF",
        "outputId": "5024a841-7dc8-4aa3-88b0-105b0f918439"
      },
      "outputs": [
        {
          "output_type": "execute_result",
          "data": {
            "text/plain": [
              "Text(0, 0.5, 'Frecuencia')"
            ]
          },
          "metadata": {},
          "execution_count": 13
        },
        {
          "output_type": "display_data",
          "data": {
            "text/plain": [
              "<Figure size 720x720 with 1 Axes>"
            ],
            "image/png": "[encoded data removed]"
          },
          "metadata": {}
        }
      ],
      "source": [
        "sns.set_style('whitegrid')\n",
        "_, ax = plt.subplots(figsize=(10,10))\n",
        "ax.set_xticklabels(ax.get_xticklabels(),rotation=90)\n",
        "sns.countplot(x = \"CLASE VEHICULO\", data = df,ax=ax);\n",
        "ax.set_ylabel(\"Frecuencia\")"
      ]
    },
    {
      "cell_type": "markdown",
      "metadata": {
        "id": "MytQONxqTcdn"
      },
      "source": [
        "#Infracciones más cometidas\n"
      ]
    },
    {
      "cell_type": "code",
      "execution_count": null,
      "metadata": {
        "id": "mvGn6vWYTcPR",
        "colab": {
          "base_uri": "https://localhost:8080/",
          "height": 1000
        },
        "outputId": "837220d2-ac25-4cfa-9646-3972ea8f8eee"
      },
      "outputs": [
        {
          "output_type": "execute_result",
          "data": {
            "text/plain": [
              "Text(0, 0.5, 'Frecuencia')"
            ]
          },
          "metadata": {},
          "execution_count": 58
        },
        {
          "output_type": "display_data",
          "data": {
            "text/plain": [
              "<Figure size 1440x1440 with 1 Axes>"
            ],
            "image/png": "[encoded data removed]"
          },
          "metadata": {}
        }
      ],
      "source": [
        "dftemp= df[(df['CLASE VEHICULO']=='MOTOCICLETA')| (df['CLASE VEHICULO']=='AUTOMOVIL')|(df['CLASE VEHICULO']=='CAMIONETA')]\n",
        "sns.set_style('whitegrid')\n",
        "_, ax = plt.subplots(figsize=(20,20))\n",
        "#ax.set_xticklabels(ax.get_xticklabels(),rotation=90)\n",
        "g = sns.countplot(x = \"INFRACCION\", data = dftemp,ax=ax,order = dftemp['INFRACCION'].value_counts().index);\n",
        "g.set_xticks(range(len(dftemp['INFRACCION'].unique())))\n",
        "g.set_xticklabels([str(i+1) for i in range(len(dftemp['INFRACCION'].unique()))])\n",
        "ax.set_ylabel(\"Frecuencia\")"
      ]
    },
    {
      "cell_type": "code",
      "source": [
        ""
      ],
      "metadata": {
        "id": "tVwsX4nZ5X64"
      },
      "execution_count": null,
      "outputs": []
    },
    {
      "cell_type": "code",
      "source": [
        "pp = pd.DataFrame(np.column_stack((dftemp['INFRACCION'].value_counts().index,[str(i+1) for i in range(len(dftemp['INFRACCION'].unique()))])),columns=['INFRACCIÓN','INDEX'])\n",
        "pp.to_excel('/content/drive/Shareddrives/Cálculo/InfracciónIndice.xlsx')"
      ],
      "metadata": {
        "id": "22BexPhl5YFh"
      },
      "execution_count": null,
      "outputs": []
    },
    {
      "cell_type": "markdown",
      "metadata": {
        "id": "mrHoAv7nS7VJ"
      },
      "source": [
        "#Infracciones en moto"
      ]
    },
    {
      "cell_type": "code",
      "execution_count": null,
      "metadata": {
        "id": "Cs6mXmPyS6Q7"
      },
      "outputs": [],
      "source": [
        "dftemp =df.loc[df['CLASE VEHICULO']=='MOTOCICLETA']\n",
        "sns.set_style('whitegrid')\n",
        "_, ax = plt.subplots(figsize=(10,2.5))\n",
        "ax.set_xticklabels(ax.get_xticklabels(),rotation=90)\n",
        "sns.countplot(x = \"INFRACCION\", data = dftemp,ax=ax, palette=\"crest\",order = dftemp['INFRACCION'].value_counts().index)\n",
        "ax.set_ylabel(\"Cantidad de infracciones\")"
      ]
    },
    {
      "cell_type": "markdown",
      "metadata": {
        "id": "1O5yZdMRS69A"
      },
      "source": [
        "#Infracciones en automovil"
      ]
    },
    {
      "cell_type": "code",
      "execution_count": null,
      "metadata": {
        "id": "Ggnu4v97UVj0"
      },
      "outputs": [],
      "source": [
        "dftemp =(df.loc[df['CLASE VEHICULO']=='AUTOMOVIL'])\n",
        "sns.set_style('whitegrid')\n",
        "_, ax = plt.subplots(figsize=(10,2.5))\n",
        "ax.set_xticklabels(ax.get_xticklabels(),rotation=90)\n",
        "sns.countplot(x = \"INFRACCION\", data = dftemp,ax=ax, palette=\"crest\", order = dftemp['INFRACCION'].value_counts().index)\n",
        "ax.set_ylabel(\"Cantidad de infracciones\")"
      ]
    },
    {
      "cell_type": "markdown",
      "metadata": {
        "id": "XecAL3qjS6k1"
      },
      "source": [
        "#Infracciones en camioneta"
      ]
    },
    {
      "cell_type": "code",
      "execution_count": null,
      "metadata": {
        "id": "tdcTHUX3UfMw"
      },
      "outputs": [],
      "source": [
        "dftemp=(df.loc[df['CLASE VEHICULO']=='CAMIONETA'])\n",
        "sns.set_style('whitegrid')\n",
        "_, ax = plt.subplots(figsize=(10,2.5))\n",
        "ax.set_xticklabels(ax.get_xticklabels(),rotation=90)\n",
        "sns.countplot(x = \"INFRACCION\", data = dftemp,ax=ax, palette=\"crest\",order = dftemp['INFRACCION'].value_counts().index)\n",
        "ax.set_ylabel(\"Cantidad de infracciones\")"
      ]
    },
    {
      "cell_type": "markdown",
      "metadata": {
        "id": "gRcpLRzAWNUR"
      },
      "source": [
        "#Definición de sets y df a utilizar\n"
      ]
    },
    {
      "cell_type": "code",
      "execution_count": null,
      "metadata": {
        "id": "rQjuYt5pVaaB",
        "colab": {
          "base_uri": "https://localhost:8080/"
        },
        "outputId": "9cb4ff2f-1937-477f-abb2-74da18e5c30e"
      },
      "outputs": [
        {
          "output_type": "stream",
          "name": "stderr",
          "text": [
            "/usr/local/lib/python3.7/dist-packages/ipykernel_launcher.py:17: SettingWithCopyWarning: \n",
            "A value is trying to be set on a copy of a slice from a DataFrame.\n",
            "Try using .loc[row_indexer,col_indexer] = value instead\n",
            "\n",
            "See the caveats in the documentation: https://pandas.pydata.org/pandas-docs/stable/user_guide/indexing.html#returning-a-view-versus-a-copy\n"
          ]
        }
      ],
      "source": [
        "from sklearn.preprocessing import LabelEncoder, OneHotEncoder\n",
        "df= df.loc[(df['LUGAR'] == \"VIA SARDINATA-CUCUTA\") | \n",
        "           (df['LUGAR'] == \"VIA PAMPLONA-CUCUTA\") |\n",
        "           (df['LUGAR'] == \"VIA PAMPLONA-BUCARAMANGA\")]\n",
        "#(df['INFRACCION']=='Conducir un vehículo sin llevar consigo la licencia de conducción') porque ya no es un comparendo\n",
        "#0='No realizar la revisión técnico-mecánica en el plazo legal establecido o cuando el vehículo no se encuentre en adecuadas condiciones técnico-mecánicas o de emisiones contaminantes, aun cuando porte los certificados correspondientes, además el vehículo será inmovilizado'\n",
        "#1='Guiar un vehículo sin haber obtenido la licencia de conducción correspondiente. Además, el vehículo será inmovilizado en el lugar de los hechos, hasta que este sea retirado por una persona autorizada por el infractor con licencia de conducción'\n",
        "df = df.loc[(df['INFRACCION']=='No realizar la revisión técnico-mecánica en el plazo legal establecido o cuando el vehículo no se encuentre en adecuadas condiciones técnico-mecánicas o de emisiones contaminantes, aun cuando porte los certificados correspondientes, además el vehículo será inmovilizado')\n",
        "            |(df['INFRACCION']=='Guiar un vehículo sin haber obtenido la licencia de conducción correspondiente. Además, el vehículo será inmovilizado en el lugar de los hechos, hasta que este sea retirado por una persona autorizada por el infractor con licencia de conducción')]\n",
        "\n",
        "df=df.loc[(df['CLASE VEHICULO']=='AUTOMOVIL')|(df['CLASE VEHICULO']=='CAMIONETA')|(df['CLASE VEHICULO']=='MOTOCICLETA')]\n",
        "\n",
        "cols = ['CLASE VEHICULO','LUGAR','FECHA']\n",
        "dfs = df[cols]\n",
        "labelencoder_X = LabelEncoder()\n",
        "\n",
        "dfs['FECHA'] = pd.to_numeric(df['FECHA'])\n",
        "X = dfs.iloc[:,:].values\n",
        "X[:, 0] = labelencoder_X.fit_transform(X[:, 0])\n",
        "X[:, 1] = labelencoder_X.fit_transform(X[:, 1])\n",
        "onehotencoder = OneHotEncoder()\n",
        "X = onehotencoder.fit_transform(X).toarray()\n",
        "Y = df['INFRACCION'].values\n",
        "labelencoder_Y = LabelEncoder()\n",
        "Y = labelencoder_Y.fit_transform(Y)\n",
        "x= pd.get_dummies(df[cols],drop_first=True)\n",
        "y= df['INFRACCION'].values\n",
        "\n"
      ]
    },
    {
      "cell_type": "code",
      "execution_count": null,
      "metadata": {
        "colab": {
          "base_uri": "https://localhost:8080/"
        },
        "id": "jj0pCcXK-m46",
        "outputId": "3f8c3ded-536b-46ac-c1d5-f187912cb175"
      },
      "outputs": [
        {
          "output_type": "execute_result",
          "data": {
            "text/plain": [
              "array([[0., 0., 1., ..., 0., 0., 0.],\n",
              "       [0., 0., 1., ..., 1., 0., 0.],\n",
              "       [1., 0., 0., ..., 0., 1., 0.],\n",
              "       ...,\n",
              "       [0., 0., 1., ..., 0., 0., 1.],\n",
              "       [0., 0., 1., ..., 1., 0., 0.],\n",
              "       [0., 0., 1., ..., 1., 0., 0.]])"
            ]
          },
          "metadata": {},
          "execution_count": 4
        }
      ],
      "source": [
        "X"
      ]
    },
    {
      "cell_type": "code",
      "execution_count": null,
      "metadata": {
        "id": "XVWd62xv-rm1",
        "colab": {
          "base_uri": "https://localhost:8080/"
        },
        "outputId": "58a73629-9797-4e19-c54a-138cae4bbbd2"
      },
      "outputs": [
        {
          "output_type": "stream",
          "name": "stdout",
          "text": [
            "x\n",
            "       FECHA  CLASE VEHICULO_CAMIONETA  CLASE VEHICULO_MOTOCICLETA  \\\n",
            "36         3                         0                           1   \n",
            "40         4                         0                           1   \n",
            "41         5                         0                           0   \n",
            "43         2                         0                           1   \n",
            "49         6                         0                           1   \n",
            "...      ...                       ...                         ...   \n",
            "23841      3                         0                           1   \n",
            "23843      5                         0                           1   \n",
            "23846      6                         0                           1   \n",
            "23861      4                         0                           1   \n",
            "23863      4                         0                           1   \n",
            "\n",
            "       LUGAR_VIA PAMPLONA-CUCUTA  LUGAR_VIA SARDINATA-CUCUTA  \n",
            "36                             0                           1  \n",
            "40                             0                           1  \n",
            "41                             0                           1  \n",
            "43                             0                           1  \n",
            "49                             0                           1  \n",
            "...                          ...                         ...  \n",
            "23841                          0                           1  \n",
            "23843                          0                           1  \n",
            "23846                          0                           1  \n",
            "23861                          0                           1  \n",
            "23863                          0                           1  \n",
            "\n",
            "[4765 rows x 5 columns]\n"
          ]
        }
      ],
      "source": [
        "print(\"x\")\n",
        "print(x)"
      ]
    },
    {
      "cell_type": "code",
      "execution_count": null,
      "metadata": {
        "colab": {
          "base_uri": "https://localhost:8080/"
        },
        "id": "U66Eb47Y-rwM",
        "outputId": "b9363041-5f9d-4508-f1ac-ffe47dae33c6"
      },
      "outputs": [
        {
          "output_type": "stream",
          "name": "stdout",
          "text": [
            "Y\n",
            "[0 1 1 ... 0 0 1]\n"
          ]
        }
      ],
      "source": [
        "print(\"Y\")\n",
        "print(Y)"
      ]
    },
    {
      "cell_type": "code",
      "execution_count": null,
      "metadata": {
        "colab": {
          "base_uri": "https://localhost:8080/"
        },
        "id": "95j03oyr-r61",
        "outputId": "38ee82cf-f17d-4de3-8b4f-ac0daba9ec52"
      },
      "outputs": [
        {
          "output_type": "stream",
          "name": "stdout",
          "text": [
            "['Guiar un vehículo sin haber obtenido la licencia de conducción correspondiente. Además, el vehículo será inmovilizado en el lugar de los hechos, hasta que este sea retirado por una persona autorizada por el infractor con licencia de conducción'\n",
            " 'No realizar la revisión técnico-mecánica en el plazo legal establecido o cuando el vehículo no se encuentre en adecuadas condiciones técnico-mecánicas o de emisiones contaminantes, aun cuando porte los certificados correspondientes, además el vehículo será inmovilizado'\n",
            " 'No realizar la revisión técnico-mecánica en el plazo legal establecido o cuando el vehículo no se encuentre en adecuadas condiciones técnico-mecánicas o de emisiones contaminantes, aun cuando porte los certificados correspondientes, además el vehículo será inmovilizado'\n",
            " ...\n",
            " 'Guiar un vehículo sin haber obtenido la licencia de conducción correspondiente. Además, el vehículo será inmovilizado en el lugar de los hechos, hasta que este sea retirado por una persona autorizada por el infractor con licencia de conducción'\n",
            " 'Guiar un vehículo sin haber obtenido la licencia de conducción correspondiente. Además, el vehículo será inmovilizado en el lugar de los hechos, hasta que este sea retirado por una persona autorizada por el infractor con licencia de conducción'\n",
            " 'No realizar la revisión técnico-mecánica en el plazo legal establecido o cuando el vehículo no se encuentre en adecuadas condiciones técnico-mecánicas o de emisiones contaminantes, aun cuando porte los certificados correspondientes, además el vehículo será inmovilizado']\n"
          ]
        }
      ],
      "source": [
        "print(y)"
      ]
    },
    {
      "cell_type": "markdown",
      "metadata": {
        "id": "YpKu5q-CVS56"
      },
      "source": [
        "#Modelo de regresión logistica"
      ]
    },
    {
      "cell_type": "code",
      "execution_count": null,
      "metadata": {
        "colab": {
          "base_uri": "https://localhost:8080/"
        },
        "id": "Og9ByeCxV--L",
        "outputId": "09cd6471-aa53-4b16-f412-eb12979d316d"
      },
      "outputs": [
        {
          "output_type": "stream",
          "name": "stdout",
          "text": [
            "0.5699300699300699\n"
          ]
        }
      ],
      "source": [
        "X_train, X_val, y_train, y_val = train_test_split(X, Y, test_size=0.3, random_state=138)\n",
        "log_mod = LogisticRegression().fit(X_train, y_train)\n",
        "\n",
        "print(log_mod.score(X_val, y_val))\n"
      ]
    },
    {
      "cell_type": "markdown",
      "metadata": {
        "id": "ZWb9lfBoMsdQ"
      },
      "source": [
        "**Probabilidad comparendo**: 'No realizar la revisión técnico-mecánica en el plazo legal establecido o cuando el vehículo no se encuentre en adecuadas condiciones técnico-mecánicas o de emisiones contaminantes, aun cuando porte los certificados correspondientes, además el vehículo será inmovilizado'"
      ]
    },
    {
      "cell_type": "code",
      "execution_count": null,
      "metadata": {
        "colab": {
          "base_uri": "https://localhost:8080/"
        },
        "id": "aFrNWGnDMsnK",
        "outputId": "7ff120a5-723e-4be3-ccdd-cc7c867d7d7d"
      },
      "outputs": [
        {
          "output_type": "execute_result",
          "data": {
            "text/plain": [
              "0.7097586568730325"
            ]
          },
          "metadata": {},
          "execution_count": 9
        }
      ],
      "source": [
        "np.sum(log_mod.predict(X)==0)/y.size"
      ]
    },
    {
      "cell_type": "markdown",
      "metadata": {
        "id": "1EcTWmZlMtHK"
      },
      "source": [
        "**Probabilidad comparendo**: 'Guiar un vehículo sin haber obtenido la licencia de conducción correspondiente. Además, el vehículo será inmovilizado en el lugar de los hechos, hasta que este sea retirado por una persona autorizada por el infractor con licencia de conducción'"
      ]
    },
    {
      "cell_type": "code",
      "execution_count": null,
      "metadata": {
        "colab": {
          "base_uri": "https://localhost:8080/"
        },
        "id": "jvDXBjUaMtSm",
        "outputId": "5b8979ea-294d-48c7-b242-78eee2db8559"
      },
      "outputs": [
        {
          "output_type": "execute_result",
          "data": {
            "text/plain": [
              "0.2902413431269675"
            ]
          },
          "metadata": {},
          "execution_count": 10
        }
      ],
      "source": [
        "np.sum(log_mod.predict(X)==1)/y.size\n"
      ]
    },
    {
      "cell_type": "markdown",
      "metadata": {
        "id": "cXwYkxJvKLqc"
      },
      "source": [
        "**Accuracy**"
      ]
    },
    {
      "cell_type": "code",
      "execution_count": null,
      "metadata": {
        "colab": {
          "base_uri": "https://localhost:8080/"
        },
        "outputId": "8d0b9bc4-58ea-4a2c-bf06-68f1a08f6c8e",
        "id": "z9jo_G5kKLqc"
      },
      "outputs": [
        {
          "output_type": "stream",
          "name": "stdout",
          "text": [
            "Accuracy of the classifier is: 0.5699300699300699\n"
          ]
        }
      ],
      "source": [
        "print(f\"Accuracy of the classifier is: {accuracy_score(y_val,log_mod.predict(X_val))}\")\n"
      ]
    },
    {
      "cell_type": "markdown",
      "metadata": {
        "id": "KS00z-xcWvPh"
      },
      "source": [
        "**Cross validation**"
      ]
    },
    {
      "cell_type": "code",
      "execution_count": null,
      "metadata": {
        "colab": {
          "base_uri": "https://localhost:8080/"
        },
        "id": "v5HaDpa-W02i",
        "outputId": "042ee876-adf6-489b-98ce-9b94d390c1ac"
      },
      "outputs": [
        {
          "output_type": "stream",
          "name": "stdout",
          "text": [
            "0.57 accuracy with a standard deviation of 0.08\n"
          ]
        }
      ],
      "source": [
        "scores = cross_val_score(log_mod, X, Y, cv=100)\n",
        "print(\"%0.2f accuracy with a standard deviation of %0.2f\" % (scores.mean(), scores.std()))"
      ]
    },
    {
      "cell_type": "markdown",
      "metadata": {
        "id": "-z0UDO_6XBBE"
      },
      "source": [
        "**Confusion Matrix**"
      ]
    },
    {
      "cell_type": "code",
      "execution_count": null,
      "metadata": {
        "colab": {
          "base_uri": "https://localhost:8080/"
        },
        "id": "3qJn6w-cXC1y",
        "outputId": "38145c4e-1e38-4419-abe5-20d952b9c5e9"
      },
      "outputs": [
        {
          "output_type": "stream",
          "name": "stdout",
          "text": [
            "[[572 157]\n",
            " [458 243]]\n"
          ]
        }
      ],
      "source": [
        "import matplotlib.pyplot as plt\n",
        "print(confusion_matrix(y_val, log_mod.predict(X_val)))\n",
        "vp=confusion_matrix(y_val, log_mod.predict(X_val))[0][0]\n",
        "fn=confusion_matrix(y_val, log_mod.predict(X_val))[1][0]\n",
        "fp=confusion_matrix(y_val, log_mod.predict(X_val))[0][1]\n",
        "vn=confusion_matrix(y_val, log_mod.predict(X_val))[1][1]\n"
      ]
    },
    {
      "cell_type": "code",
      "source": [
        "plot_confusion_matrix(log_mod, X_val, y_val)"
      ],
      "metadata": {
        "colab": {
          "base_uri": "https://localhost:8080/",
          "height": 351
        },
        "id": "4WsbYHiZK81C",
        "outputId": "d684e749-5121-431e-df7d-578c0d369d96"
      },
      "execution_count": null,
      "outputs": [
        {
          "output_type": "stream",
          "name": "stderr",
          "text": [
            "/usr/local/lib/python3.7/dist-packages/sklearn/utils/deprecation.py:87: FutureWarning: Function plot_confusion_matrix is deprecated; Function `plot_confusion_matrix` is deprecated in 1.0 and will be removed in 1.2. Use one of the class methods: ConfusionMatrixDisplay.from_predictions or ConfusionMatrixDisplay.from_estimator.\n",
            "  warnings.warn(msg, category=FutureWarning)\n"
          ]
        },
        {
          "output_type": "execute_result",
          "data": {
            "text/plain": [
              "<sklearn.metrics._plot.confusion_matrix.ConfusionMatrixDisplay at 0x7fa61c17bf90>"
            ]
          },
          "metadata": {},
          "execution_count": 14
        },
        {
          "output_type": "display_data",
          "data": {
            "text/plain": [
              "<Figure size 432x288 with 2 Axes>"
            ],
            "image/png": "[encoded data removed]"
          },
          "metadata": {
            "needs_background": "light"
          }
        }
      ]
    },
    {
      "cell_type": "markdown",
      "source": [
        "**Precision**"
      ],
      "metadata": {
        "id": "wRXzdbFjLFZY"
      }
    },
    {
      "cell_type": "code",
      "source": [
        "print((vp+vn)/(vp+fp+fn+vn))"
      ],
      "metadata": {
        "colab": {
          "base_uri": "https://localhost:8080/"
        },
        "id": "lBKrSWgcK_td",
        "outputId": "ac54a280-e3f1-44bf-f2fc-771316dfe768"
      },
      "execution_count": null,
      "outputs": [
        {
          "output_type": "stream",
          "name": "stdout",
          "text": [
            "0.5699300699300699\n"
          ]
        }
      ]
    },
    {
      "cell_type": "markdown",
      "source": [
        "**Sensibilidad**"
      ],
      "metadata": {
        "id": "GnKkGcmTLPQf"
      }
    },
    {
      "cell_type": "code",
      "source": [
        "print(vp/(vp+fn))"
      ],
      "metadata": {
        "colab": {
          "base_uri": "https://localhost:8080/"
        },
        "id": "scy0kUUDLWg2",
        "outputId": "5994f865-bd01-4699-a111-59be439e248d"
      },
      "execution_count": null,
      "outputs": [
        {
          "output_type": "stream",
          "name": "stdout",
          "text": [
            "0.5553398058252427\n"
          ]
        }
      ]
    },
    {
      "cell_type": "markdown",
      "source": [
        " **Especificidad**"
      ],
      "metadata": {
        "id": "8utqMcdiLS-D"
      }
    },
    {
      "cell_type": "code",
      "source": [
        "print(vn/(vn+fp))"
      ],
      "metadata": {
        "colab": {
          "base_uri": "https://localhost:8080/"
        },
        "id": "o7iABeTHLZDp",
        "outputId": "f5919e1e-8e44-4153-b6ec-85aaddf9d550"
      },
      "execution_count": null,
      "outputs": [
        {
          "output_type": "stream",
          "name": "stdout",
          "text": [
            "0.6075\n"
          ]
        }
      ]
    },
    {
      "cell_type": "markdown",
      "metadata": {
        "id": "ViHtaAo9BBlF"
      },
      "source": [
        "**Curva ROC**"
      ]
    },
    {
      "cell_type": "code",
      "execution_count": null,
      "metadata": {
        "colab": {
          "base_uri": "https://localhost:8080/",
          "height": 283
        },
        "id": "jBnIlWJZ-8Zo",
        "outputId": "2d5f789a-b0b6-467f-b874-d91e6e457a95"
      },
      "outputs": [
        {
          "output_type": "display_data",
          "data": {
            "text/plain": [
              "<Figure size 432x288 with 1 Axes>"
            ],
            "image/png": "[encoded data removed]"
          },
          "metadata": {
            "needs_background": "light"
          }
        }
      ],
      "source": [
        "predicts= log_mod.predict_proba(X_val)\n",
        "predicts =predicts[:,1]\n",
        "fpr,tpr,treshold= roc_curve(y_val,predicts)\n",
        "roc_auc=auc(fpr,tpr)\n",
        "plt.plot(fpr, tpr, 'b', label = 'AUC = %0.2f' % roc_auc)\n",
        "plt.legend(loc = 'lower right')\n",
        "plt.plot([0, 1], [0, 1],'r--')\n",
        "plt.xlim([0, 1])\n",
        "plt.ylim([0, 1])\n",
        "plt.ylabel('True Positive Rate')\n",
        "plt.xlabel('False Positive Rate')\n",
        "plt.show()\n"
      ]
    },
    {
      "cell_type": "markdown",
      "metadata": {
        "id": "TBL5cUwiWc-A"
      },
      "source": [
        "#Mlp Classifier"
      ]
    },
    {
      "cell_type": "code",
      "execution_count": null,
      "metadata": {
        "colab": {
          "base_uri": "https://localhost:8080/"
        },
        "id": "jwVh9QcaWj4Z",
        "outputId": "e5f0008e-7dd0-41c4-8c2a-0ee19e333d3d"
      },
      "outputs": [
        {
          "output_type": "stream",
          "name": "stdout",
          "text": [
            "0.5755244755244755\n"
          ]
        }
      ],
      "source": [
        "X_train, X_val, y_train, y_val = train_test_split(X, Y, test_size=0.3,random_state=138)\n",
        "mlp_clas = MLPClassifier(hidden_layer_sizes=(50,50,50,50), activation='logistic',solver= 'adam', max_iter=2000).fit(X_train, y_train)\n",
        "print(mlp_clas.score(X_val,y_val))"
      ]
    },
    {
      "cell_type": "markdown",
      "metadata": {
        "id": "sua4lk3GT35d"
      },
      "source": [
        "**Probabilidad comparendo**: 'No realizar la revisión técnico-mecánica en el plazo legal establecido o cuando el vehículo no se encuentre en adecuadas condiciones técnico-mecánicas o de emisiones contaminantes, aun cuando porte los certificados correspondientes, además el vehículo será inmovilizado'"
      ]
    },
    {
      "cell_type": "code",
      "execution_count": null,
      "metadata": {
        "colab": {
          "base_uri": "https://localhost:8080/"
        },
        "id": "uPff-HC8T35e",
        "outputId": "fa914cc5-9896-4467-893a-c9819e1f7be5"
      },
      "outputs": [
        {
          "output_type": "execute_result",
          "data": {
            "text/plain": [
              "0.8044071353620147"
            ]
          },
          "metadata": {},
          "execution_count": 20
        }
      ],
      "source": [
        "np.sum(mlp_clas.predict(X)==0)/y.size"
      ]
    },
    {
      "cell_type": "markdown",
      "metadata": {
        "id": "_f8HvU9uT35e"
      },
      "source": [
        "**Probabilidad comparendo**: 'Guiar un vehículo sin haber obtenido la licencia de conducción correspondiente. Además, el vehículo será inmovilizado en el lugar de los hechos, hasta que este sea retirado por una persona autorizada por el infractor con licencia de conducción'"
      ]
    },
    {
      "cell_type": "code",
      "execution_count": null,
      "metadata": {
        "colab": {
          "base_uri": "https://localhost:8080/"
        },
        "id": "mLW3aTpUT35e",
        "outputId": "5129b062-c529-4d54-fec8-32bff9dabb2f"
      },
      "outputs": [
        {
          "output_type": "execute_result",
          "data": {
            "text/plain": [
              "0.1955928646379853"
            ]
          },
          "metadata": {},
          "execution_count": 21
        }
      ],
      "source": [
        "np.sum(mlp_clas.predict(X)==1)/y.size\n"
      ]
    },
    {
      "cell_type": "markdown",
      "metadata": {
        "id": "JXcnu5xrXRhE"
      },
      "source": [
        "**Accuracy**"
      ]
    },
    {
      "cell_type": "code",
      "execution_count": null,
      "metadata": {
        "colab": {
          "base_uri": "https://localhost:8080/"
        },
        "id": "xgCgUM7OXRhH",
        "outputId": "1748e01f-41e4-4514-cc08-d3721c7e31ac"
      },
      "outputs": [
        {
          "output_type": "stream",
          "name": "stdout",
          "text": [
            "Accuracy of the classifier is: 0.5755244755244755\n"
          ]
        }
      ],
      "source": [
        "print(f\"Accuracy of the classifier is: {accuracy_score(y_val,mlp_clas.predict(X_val))}\")\n"
      ]
    },
    {
      "cell_type": "markdown",
      "metadata": {
        "id": "JwLqbzzXXRhH"
      },
      "source": [
        "**Confusion Matrix**"
      ]
    },
    {
      "cell_type": "code",
      "execution_count": null,
      "metadata": {
        "colab": {
          "base_uri": "https://localhost:8080/"
        },
        "id": "xt-Eg7gEXRhI",
        "outputId": "15053c59-9980-42f4-9331-ab5b073a592f"
      },
      "outputs": [
        {
          "output_type": "stream",
          "name": "stdout",
          "text": [
            "[[636  93]\n",
            " [514 187]]\n"
          ]
        }
      ],
      "source": [
        "import matplotlib.pyplot as plt\n",
        "print(confusion_matrix(y_val, mlp_clas.predict(X_val)))\n",
        "vp=confusion_matrix(y_val, mlp_clas.predict(X_val))[0][0]\n",
        "fn=confusion_matrix(y_val, mlp_clas.predict(X_val))[1][0]\n",
        "fp=confusion_matrix(y_val, mlp_clas.predict(X_val))[0][1]\n",
        "vn=confusion_matrix(y_val, mlp_clas.predict(X_val))[1][1]"
      ]
    },
    {
      "cell_type": "code",
      "source": [
        "plot_confusion_matrix(mlp_clas, X_val, y_val)\n",
        "plt.show()"
      ],
      "metadata": {
        "colab": {
          "base_uri": "https://localhost:8080/",
          "height": 334
        },
        "id": "PhvnDgxRLikR",
        "outputId": "f20211ad-d89c-4bb8-8f03-0986f96afcc0"
      },
      "execution_count": null,
      "outputs": [
        {
          "output_type": "stream",
          "name": "stderr",
          "text": [
            "/usr/local/lib/python3.7/dist-packages/sklearn/utils/deprecation.py:87: FutureWarning: Function plot_confusion_matrix is deprecated; Function `plot_confusion_matrix` is deprecated in 1.0 and will be removed in 1.2. Use one of the class methods: ConfusionMatrixDisplay.from_predictions or ConfusionMatrixDisplay.from_estimator.\n",
            "  warnings.warn(msg, category=FutureWarning)\n"
          ]
        },
        {
          "output_type": "display_data",
          "data": {
            "text/plain": [
              "<Figure size 432x288 with 2 Axes>"
            ],
            "image/png": "[encoded data removed]"
          },
          "metadata": {
            "needs_background": "light"
          }
        }
      ]
    },
    {
      "cell_type": "markdown",
      "source": [
        "**Precision**"
      ],
      "metadata": {
        "id": "6c8-wMBLLhQS"
      }
    },
    {
      "cell_type": "code",
      "source": [
        "print((vp+vn)/(vp+fp+fn+vn))"
      ],
      "metadata": {
        "colab": {
          "base_uri": "https://localhost:8080/"
        },
        "outputId": "bb61b981-625f-483e-febf-e3c49a9b5c45",
        "id": "GccGbiFeLhQT"
      },
      "execution_count": null,
      "outputs": [
        {
          "output_type": "stream",
          "name": "stdout",
          "text": [
            "0.5755244755244755\n"
          ]
        }
      ]
    },
    {
      "cell_type": "markdown",
      "source": [
        "**Sensibilidad**"
      ],
      "metadata": {
        "id": "OPmiU1hPLhQT"
      }
    },
    {
      "cell_type": "code",
      "source": [
        "print(vp/(vp+fn))"
      ],
      "metadata": {
        "colab": {
          "base_uri": "https://localhost:8080/"
        },
        "outputId": "8ae011dd-b786-4d5c-84a4-ab8ad816f2b5",
        "id": "NqI5FBCOLhQT"
      },
      "execution_count": null,
      "outputs": [
        {
          "output_type": "stream",
          "name": "stdout",
          "text": [
            "0.5530434782608695\n"
          ]
        }
      ]
    },
    {
      "cell_type": "markdown",
      "source": [
        " **Especificidad**"
      ],
      "metadata": {
        "id": "REvbVclQLhQU"
      }
    },
    {
      "cell_type": "code",
      "source": [
        "print(vn/(vn+fp))"
      ],
      "metadata": {
        "colab": {
          "base_uri": "https://localhost:8080/"
        },
        "outputId": "5aa6df8c-cdc4-4d58-8d24-89c0a4c39e93",
        "id": "2OMGQXGLLhQU"
      },
      "execution_count": null,
      "outputs": [
        {
          "output_type": "stream",
          "name": "stdout",
          "text": [
            "0.6678571428571428\n"
          ]
        }
      ]
    },
    {
      "cell_type": "markdown",
      "metadata": {
        "id": "5cpyBm_H7GEc"
      },
      "source": [
        "**Cross validation**"
      ]
    },
    {
      "cell_type": "code",
      "execution_count": null,
      "metadata": {
        "colab": {
          "base_uri": "https://localhost:8080/"
        },
        "id": "nfOf_Caz6-yg",
        "outputId": "3feeb9ec-982e-4052-b312-a7ad0532c52a"
      },
      "outputs": [
        {
          "output_type": "stream",
          "name": "stdout",
          "text": [
            "0.55 accuracy with a standard deviation of 0.09\n"
          ]
        }
      ],
      "source": [
        "scores = cross_val_score(mlp_clas, X, y, cv=100)\n",
        "print(\"%0.2f accuracy with a standard deviation of %0.2f\" % (scores.mean(), scores.std()))"
      ]
    },
    {
      "cell_type": "markdown",
      "metadata": {
        "id": "URqd_23cBs29"
      },
      "source": [
        "**Curva ROC**"
      ]
    },
    {
      "cell_type": "code",
      "execution_count": null,
      "metadata": {
        "id": "-QwvHnKfBs3L",
        "colab": {
          "base_uri": "https://localhost:8080/",
          "height": 283
        },
        "outputId": "70618c52-677d-4987-eb36-85f9fbab9d70"
      },
      "outputs": [
        {
          "output_type": "display_data",
          "data": {
            "text/plain": [
              "<Figure size 432x288 with 1 Axes>"
            ],
            "image/png": "[encoded data removed]"
          },
          "metadata": {
            "needs_background": "light"
          }
        }
      ],
      "source": [
        "predicts= mlp_clas.predict_proba(X_val)\n",
        "predicts =predicts[:,1]\n",
        "fpr,tpr,treshold= roc_curve(y_val,predicts)\n",
        "roc_auc=auc(fpr,tpr)\n",
        "plt.plot(fpr, tpr, 'b', label = 'AUC = %0.2f' % roc_auc)\n",
        "plt.legend(loc = 'lower right')\n",
        "plt.plot([0, 1], [0, 1],'r--')\n",
        "plt.xlim([0, 1])\n",
        "plt.ylim([0, 1])\n",
        "plt.ylabel('True Positive Rate')\n",
        "plt.xlabel('False Positive Rate')\n",
        "plt.show()\n"
      ]
    },
    {
      "cell_type": "markdown",
      "metadata": {
        "id": "xTTFXhmbWE2T"
      },
      "source": [
        "#KNeighbors Classifier"
      ]
    },
    {
      "cell_type": "code",
      "execution_count": null,
      "metadata": {
        "colab": {
          "base_uri": "https://localhost:8080/"
        },
        "id": "uWjzNxrzWITp",
        "outputId": "1d1ffee2-62eb-4885-88ae-0d4e95dad4ce"
      },
      "outputs": [
        {
          "output_type": "stream",
          "name": "stdout",
          "text": [
            "0.5734265734265734\n"
          ]
        }
      ],
      "source": [
        "from sklearn.neighbors import KNeighborsClassifier\n",
        "import matplotlib.pyplot as plt\n",
        "neigh = KNeighborsClassifier(n_neighbors=25) \n",
        "X_train, X_val, y_train, y_val = train_test_split(X, Y, test_size=0.3,random_state=138)\n",
        "neigh.fit(X_train, y_train)\n",
        "\n",
        "print(neigh.score(X_val,y_val))"
      ]
    },
    {
      "cell_type": "markdown",
      "source": [
        "**K optimo**"
      ],
      "metadata": {
        "id": "JNCSsVmhUcdT"
      }
    },
    {
      "cell_type": "code",
      "source": [
        "range_k = range(1,50)\n",
        "scores = {}\n",
        "scores_list = []\n",
        "for k in range_k:\n",
        "   classifier = KNeighborsClassifier(n_neighbors=k)\n",
        "   classifier.fit(X_train, y_train)\n",
        "   y_pred = classifier.predict(X_val)\n",
        "   scores[k] =accuracy_score(y_val,y_pred)\n",
        "   scores_list.append(accuracy_score(y_val,y_pred))\n",
        "plt.plot(range_k,scores_list)\n",
        "plt.xlabel(\"Value of K\")\n",
        "plt.ylabel(\"Accuracy\")\n"
      ],
      "metadata": {
        "id": "-sdcy-m6Ub4X",
        "colab": {
          "base_uri": "https://localhost:8080/"
        },
        "outputId": "653a5ada-8d76-4207-a51d-94350a143d58"
      },
      "execution_count": null,
      "outputs": [
        {
          "output_type": "execute_result",
          "data": {
            "text/plain": [
              "Text(0, 0.5, 'Accuracy')"
            ]
          },
          "metadata": {},
          "execution_count": 31
        },
        {
          "output_type": "display_data",
          "data": {
            "text/plain": [
              "<Figure size 432x288 with 1 Axes>"
            ],
            "image/png": "[encoded data removed]"
          },
          "metadata": {
            "needs_background": "light"
          }
        }
      ]
    },
    {
      "cell_type": "markdown",
      "metadata": {
        "id": "JlFg7vlBYagb"
      },
      "source": [
        "**Probabilidad comparendo**: 'No realizar la revisión técnico-mecánica en el plazo legal establecido o cuando el vehículo no se encuentre en adecuadas condiciones técnico-mecánicas o de emisiones contaminantes, aun cuando porte los certificados correspondientes, además el vehículo será inmovilizado'"
      ]
    },
    {
      "cell_type": "code",
      "execution_count": null,
      "metadata": {
        "colab": {
          "base_uri": "https://localhost:8080/"
        },
        "outputId": "7a4aa4ab-b0fc-4f27-8e77-a883f1dbf0a8",
        "id": "x1oZhPEFYagb"
      },
      "outputs": [
        {
          "output_type": "execute_result",
          "data": {
            "text/plain": [
              "0.8100734522560336"
            ]
          },
          "metadata": {},
          "execution_count": 32
        }
      ],
      "source": [
        "np.sum(neigh.predict(X)==0)/y.size"
      ]
    },
    {
      "cell_type": "markdown",
      "metadata": {
        "id": "2a4W4ZoFYagc"
      },
      "source": [
        "**Probabilidad comparendo**: 'Guiar un vehículo sin haber obtenido la licencia de conducción correspondiente. Además, el vehículo será inmovilizado en el lugar de los hechos, hasta que este sea retirado por una persona autorizada por el infractor con licencia de conducción'"
      ]
    },
    {
      "cell_type": "code",
      "execution_count": null,
      "metadata": {
        "colab": {
          "base_uri": "https://localhost:8080/"
        },
        "outputId": "5355646b-6f76-4b88-f43a-c63fc9e6230b",
        "id": "S3sWcJlFYagc"
      },
      "outputs": [
        {
          "output_type": "execute_result",
          "data": {
            "text/plain": [
              "0.18992654774396642"
            ]
          },
          "metadata": {},
          "execution_count": 33
        }
      ],
      "source": [
        "np.sum(neigh.predict(X)==1)/y.size\n"
      ]
    },
    {
      "cell_type": "markdown",
      "metadata": {
        "id": "CNRnaBXAXLZC"
      },
      "source": [
        "**Cross validation**"
      ]
    },
    {
      "cell_type": "code",
      "execution_count": null,
      "metadata": {
        "id": "6ZrqEcsTXLZG",
        "colab": {
          "base_uri": "https://localhost:8080/"
        },
        "outputId": "4ddc4845-76cd-42d1-b852-eb8be9159419"
      },
      "outputs": [
        {
          "output_type": "stream",
          "name": "stdout",
          "text": [
            "0.54 accuracy with a standard deviation of 0.09\n"
          ]
        }
      ],
      "source": [
        "scores = cross_val_score(neigh, X, Y, cv=100)\n",
        "print(\"%0.2f accuracy with a standard deviation of %0.2f\" % (scores.mean(), scores.std()))"
      ]
    },
    {
      "cell_type": "markdown",
      "metadata": {
        "id": "op9I8pUxXLZI"
      },
      "source": [
        "**Accuracy**"
      ]
    },
    {
      "cell_type": "code",
      "execution_count": null,
      "metadata": {
        "id": "xc2Mv6INXLZI",
        "colab": {
          "base_uri": "https://localhost:8080/"
        },
        "outputId": "35c357d9-2ca9-4454-d163-4f2ce761870c"
      },
      "outputs": [
        {
          "output_type": "stream",
          "name": "stdout",
          "text": [
            "Accuracy of the classifier is: 0.5734265734265734\n"
          ]
        }
      ],
      "source": [
        "print(f\"Accuracy of the classifier is: {accuracy_score(y_val, neigh.predict(X_val))}\")\n"
      ]
    },
    {
      "cell_type": "markdown",
      "metadata": {
        "id": "0J_OkzqhXLZJ"
      },
      "source": [
        "**Confusion Matrix**"
      ]
    },
    {
      "cell_type": "code",
      "execution_count": null,
      "metadata": {
        "colab": {
          "base_uri": "https://localhost:8080/"
        },
        "id": "3rmFLvBjXLZJ",
        "outputId": "97d8ba78-4178-4f80-d70c-8fedd4e08066"
      },
      "outputs": [
        {
          "output_type": "stream",
          "name": "stdout",
          "text": [
            "[[639  90]\n",
            " [520 181]]\n"
          ]
        }
      ],
      "source": [
        "import matplotlib.pyplot as plt\n",
        "print(confusion_matrix(y_val, neigh.predict(X_val)))\n",
        "vp=confusion_matrix(y_val, neigh.predict(X_val))[0][0]\n",
        "fn=confusion_matrix(y_val, neigh.predict(X_val))[1][0]\n",
        "fp=confusion_matrix(y_val, neigh.predict(X_val))[0][1]\n",
        "vn=confusion_matrix(y_val, neigh.predict(X_val))[1][1]\n"
      ]
    },
    {
      "cell_type": "code",
      "source": [
        "plot_confusion_matrix(neigh, X_val, y_val)\n",
        "plt.show()"
      ],
      "metadata": {
        "colab": {
          "base_uri": "https://localhost:8080/"
        },
        "id": "f39UJXRwLuG8",
        "outputId": "5a4d3d97-a5e5-4819-979d-62cc613b9b87"
      },
      "execution_count": null,
      "outputs": [
        {
          "output_type": "stream",
          "name": "stderr",
          "text": [
            "/usr/local/lib/python3.7/dist-packages/sklearn/utils/deprecation.py:87: FutureWarning: Function plot_confusion_matrix is deprecated; Function `plot_confusion_matrix` is deprecated in 1.0 and will be removed in 1.2. Use one of the class methods: ConfusionMatrixDisplay.from_predictions or ConfusionMatrixDisplay.from_estimator.\n",
            "  warnings.warn(msg, category=FutureWarning)\n"
          ]
        },
        {
          "output_type": "display_data",
          "data": {
            "text/plain": [
              "<Figure size 432x288 with 2 Axes>"
            ],
            "image/png": "[encoded data removed]"
          },
          "metadata": {
            "needs_background": "light"
          }
        }
      ]
    },
    {
      "cell_type": "markdown",
      "source": [
        "**Precision**"
      ],
      "metadata": {
        "id": "6l1Ii5soL0c8"
      }
    },
    {
      "cell_type": "code",
      "source": [
        "print((vp+vn)/(vp+fp+fn+vn))"
      ],
      "metadata": {
        "colab": {
          "base_uri": "https://localhost:8080/"
        },
        "outputId": "48f6f0aa-3733-4f85-d6d3-af66f8f5cb45",
        "id": "BbXnSIlSL0c9"
      },
      "execution_count": null,
      "outputs": [
        {
          "output_type": "stream",
          "name": "stdout",
          "text": [
            "0.5734265734265734\n"
          ]
        }
      ]
    },
    {
      "cell_type": "markdown",
      "source": [
        "**Sensibilidad**"
      ],
      "metadata": {
        "id": "vXlkNlVGL0c9"
      }
    },
    {
      "cell_type": "code",
      "source": [
        "print(vp/(vp+fn))"
      ],
      "metadata": {
        "colab": {
          "base_uri": "https://localhost:8080/"
        },
        "outputId": "0a836c46-7db0-4895-b37f-5b49e03aa1cb",
        "id": "Xpz92TlPL0c9"
      },
      "execution_count": null,
      "outputs": [
        {
          "output_type": "stream",
          "name": "stdout",
          "text": [
            "0.551337359792925\n"
          ]
        }
      ]
    },
    {
      "cell_type": "markdown",
      "source": [
        " **Especificidad**"
      ],
      "metadata": {
        "id": "Q1Ip7POFL0c-"
      }
    },
    {
      "cell_type": "code",
      "source": [
        "print(vn/(vn+fp))"
      ],
      "metadata": {
        "colab": {
          "base_uri": "https://localhost:8080/"
        },
        "outputId": "530603e1-c053-495a-a1c6-40f2e443e937",
        "id": "aTAmMWa0L0c-"
      },
      "execution_count": null,
      "outputs": [
        {
          "output_type": "stream",
          "name": "stdout",
          "text": [
            "0.6678966789667896\n"
          ]
        }
      ]
    },
    {
      "cell_type": "markdown",
      "metadata": {
        "id": "8p68EnDlBxJ1"
      },
      "source": [
        "**Curva ROC**"
      ]
    },
    {
      "cell_type": "code",
      "execution_count": null,
      "metadata": {
        "colab": {
          "base_uri": "https://localhost:8080/"
        },
        "id": "Etn4mzuwBxJ2",
        "outputId": "1215b6bd-1786-41b1-eb23-8f628c451546"
      },
      "outputs": [
        {
          "output_type": "display_data",
          "data": {
            "text/plain": [
              "<Figure size 432x288 with 1 Axes>"
            ],
            "image/png": "[encoded data removed]"
          },
          "metadata": {
            "needs_background": "light"
          }
        }
      ],
      "source": [
        "predicts= neigh.predict_proba(X_val)\n",
        "predicts =predicts[:,1]\n",
        "fpr,tpr,treshold= roc_curve(y_val,predicts)\n",
        "roc_auc=auc(fpr,tpr)\n",
        "plt.plot(fpr, tpr, 'b', label = 'AUC = %0.2f' % roc_auc)\n",
        "plt.legend(loc = 'lower right')\n",
        "plt.plot([0, 1], [0, 1],'r--')\n",
        "plt.xlim([0, 1])\n",
        "plt.ylim([0, 1])\n",
        "plt.ylabel('True Positive Rate')\n",
        "plt.xlabel('False Positive Rate')\n",
        "plt.show()\n"
      ]
    },
    {
      "cell_type": "markdown",
      "source": [
        "# Graps"
      ],
      "metadata": {
        "id": "Rh8l6xSfwctt"
      }
    },
    {
      "cell_type": "code",
      "execution_count": null,
      "metadata": {
        "id": "K00_yxjJwnZl"
      },
      "outputs": [],
      "source": [
        "predicts= log_mod.predict_proba(X_val)\n",
        "predicts =predicts[:,1]\n",
        "fpr,tpr,treshold= roc_curve(y_val,predicts)\n",
        "roc_auc=auc(fpr,tpr)\n",
        "predictsmlp= mlp_clas.predict_proba(X_val)\n",
        "predictsmlp =predictsmlp[:,1]\n",
        "fprmlp,tprmlp,tresholdmlp= roc_curve(y_val,predictsmlp)\n",
        "roc_aucmlp=auc(fprmlp,tprmlp)\n",
        "predictskn= neigh.predict_proba(X_val)\n",
        "predictskn =predictskn[:,1]\n",
        "fprkn,tprkn,tresholdkn= roc_curve(y_val,predictskn)\n",
        "roc_auckn=auc(fprkn,tprkn)\n",
        "plt.plot(fpr, tpr, label = 'AUC Logistic Regresion = %0.2f ' % roc_auc)\n",
        "plt.plot(fprmlp, tprmlp,  label = 'AUC MLP Classifier = %0.2f' % roc_aucmlp,color='g')\n",
        "plt.plot(fprkn, tprkn,  label = 'AUC KNeighbors Classifier = %0.2f ' % roc_auckn, color='black')\n",
        "plt.legend(loc = 'lower right')\n",
        "plt.plot([0, 1], [0, 1],'r--')\n",
        "plt.xlim([0, 1])\n",
        "plt.ylim([0, 1])\n",
        "plt.ylabel('True Positive Rate')\n",
        "plt.xlabel('False Positive Rate')\n",
        "plt.show()\n",
        "#Area under the ROC Curve.=AUC"
      ]
    }
  ],
  "metadata": {
    "colab": {
      "collapsed_sections": [],
      "name": "ProyectoIntegrador2.0.ipynb",
      "provenance": [],
      "include_colab_link": true
    },
    "kernelspec": {
      "display_name": "Python 3",
      "name": "python3"
    },
    "language_info": {
      "name": "python"
    }
  },
  "nbformat": 4,
  "nbformat_minor": 0
}